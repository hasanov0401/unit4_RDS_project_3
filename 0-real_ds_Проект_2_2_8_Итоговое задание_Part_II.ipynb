{
 "cells": [
  {
   "cell_type": "code",
   "execution_count": 236,
   "metadata": {},
   "outputs": [
    {
     "data": {
      "text/html": [
       "<div>\n",
       "<style scoped>\n",
       "    .dataframe tbody tr th:only-of-type {\n",
       "        vertical-align: middle;\n",
       "    }\n",
       "\n",
       "    .dataframe tbody tr th {\n",
       "        vertical-align: top;\n",
       "    }\n",
       "\n",
       "    .dataframe thead th {\n",
       "        text-align: right;\n",
       "    }\n",
       "</style>\n",
       "<table border=\"1\" class=\"dataframe\">\n",
       "  <thead>\n",
       "    <tr style=\"text-align: right;\">\n",
       "      <th></th>\n",
       "      <th>school</th>\n",
       "      <th>sex</th>\n",
       "      <th>age</th>\n",
       "      <th>address</th>\n",
       "      <th>famsize</th>\n",
       "      <th>Pstatus</th>\n",
       "      <th>Medu</th>\n",
       "      <th>Fedu</th>\n",
       "      <th>Mjob</th>\n",
       "      <th>Fjob</th>\n",
       "      <th>reason</th>\n",
       "      <th>guardian</th>\n",
       "      <th>traveltime</th>\n",
       "      <th>studytime</th>\n",
       "      <th>failures</th>\n",
       "      <th>schoolsup</th>\n",
       "      <th>famsup</th>\n",
       "      <th>paid</th>\n",
       "      <th>activities</th>\n",
       "      <th>nursery</th>\n",
       "      <th>studytime, granular</th>\n",
       "      <th>higher</th>\n",
       "      <th>internet</th>\n",
       "      <th>romantic</th>\n",
       "      <th>famrel</th>\n",
       "      <th>freetime</th>\n",
       "      <th>goout</th>\n",
       "      <th>health</th>\n",
       "      <th>absences</th>\n",
       "      <th>score</th>\n",
       "    </tr>\n",
       "  </thead>\n",
       "  <tbody>\n",
       "    <tr>\n",
       "      <td>0</td>\n",
       "      <td>GP</td>\n",
       "      <td>F</td>\n",
       "      <td>18</td>\n",
       "      <td>U</td>\n",
       "      <td>NaN</td>\n",
       "      <td>A</td>\n",
       "      <td>4.0</td>\n",
       "      <td>4.0</td>\n",
       "      <td>at_home</td>\n",
       "      <td>teacher</td>\n",
       "      <td>course</td>\n",
       "      <td>mother</td>\n",
       "      <td>2.0</td>\n",
       "      <td>2.0</td>\n",
       "      <td>0.0</td>\n",
       "      <td>yes</td>\n",
       "      <td>no</td>\n",
       "      <td>no</td>\n",
       "      <td>no</td>\n",
       "      <td>yes</td>\n",
       "      <td>-6.0</td>\n",
       "      <td>yes</td>\n",
       "      <td>NaN</td>\n",
       "      <td>no</td>\n",
       "      <td>4.0</td>\n",
       "      <td>3.0</td>\n",
       "      <td>4.0</td>\n",
       "      <td>3.0</td>\n",
       "      <td>6.0</td>\n",
       "      <td>30.0</td>\n",
       "    </tr>\n",
       "    <tr>\n",
       "      <td>1</td>\n",
       "      <td>GP</td>\n",
       "      <td>F</td>\n",
       "      <td>17</td>\n",
       "      <td>U</td>\n",
       "      <td>GT3</td>\n",
       "      <td>NaN</td>\n",
       "      <td>1.0</td>\n",
       "      <td>1.0</td>\n",
       "      <td>at_home</td>\n",
       "      <td>other</td>\n",
       "      <td>course</td>\n",
       "      <td>father</td>\n",
       "      <td>1.0</td>\n",
       "      <td>2.0</td>\n",
       "      <td>0.0</td>\n",
       "      <td>no</td>\n",
       "      <td>yes</td>\n",
       "      <td>no</td>\n",
       "      <td>no</td>\n",
       "      <td>no</td>\n",
       "      <td>-6.0</td>\n",
       "      <td>yes</td>\n",
       "      <td>yes</td>\n",
       "      <td>no</td>\n",
       "      <td>5.0</td>\n",
       "      <td>3.0</td>\n",
       "      <td>3.0</td>\n",
       "      <td>3.0</td>\n",
       "      <td>4.0</td>\n",
       "      <td>30.0</td>\n",
       "    </tr>\n",
       "    <tr>\n",
       "      <td>2</td>\n",
       "      <td>GP</td>\n",
       "      <td>F</td>\n",
       "      <td>15</td>\n",
       "      <td>U</td>\n",
       "      <td>LE3</td>\n",
       "      <td>T</td>\n",
       "      <td>1.0</td>\n",
       "      <td>1.0</td>\n",
       "      <td>at_home</td>\n",
       "      <td>other</td>\n",
       "      <td>other</td>\n",
       "      <td>mother</td>\n",
       "      <td>1.0</td>\n",
       "      <td>2.0</td>\n",
       "      <td>3.0</td>\n",
       "      <td>yes</td>\n",
       "      <td>no</td>\n",
       "      <td>NaN</td>\n",
       "      <td>no</td>\n",
       "      <td>yes</td>\n",
       "      <td>-6.0</td>\n",
       "      <td>yes</td>\n",
       "      <td>yes</td>\n",
       "      <td>NaN</td>\n",
       "      <td>4.0</td>\n",
       "      <td>3.0</td>\n",
       "      <td>2.0</td>\n",
       "      <td>3.0</td>\n",
       "      <td>10.0</td>\n",
       "      <td>50.0</td>\n",
       "    </tr>\n",
       "    <tr>\n",
       "      <td>3</td>\n",
       "      <td>GP</td>\n",
       "      <td>F</td>\n",
       "      <td>15</td>\n",
       "      <td>U</td>\n",
       "      <td>GT3</td>\n",
       "      <td>T</td>\n",
       "      <td>4.0</td>\n",
       "      <td>2.0</td>\n",
       "      <td>health</td>\n",
       "      <td>NaN</td>\n",
       "      <td>home</td>\n",
       "      <td>mother</td>\n",
       "      <td>1.0</td>\n",
       "      <td>3.0</td>\n",
       "      <td>0.0</td>\n",
       "      <td>no</td>\n",
       "      <td>yes</td>\n",
       "      <td>yes</td>\n",
       "      <td>yes</td>\n",
       "      <td>yes</td>\n",
       "      <td>-9.0</td>\n",
       "      <td>yes</td>\n",
       "      <td>yes</td>\n",
       "      <td>yes</td>\n",
       "      <td>3.0</td>\n",
       "      <td>2.0</td>\n",
       "      <td>2.0</td>\n",
       "      <td>5.0</td>\n",
       "      <td>2.0</td>\n",
       "      <td>75.0</td>\n",
       "    </tr>\n",
       "    <tr>\n",
       "      <td>4</td>\n",
       "      <td>GP</td>\n",
       "      <td>F</td>\n",
       "      <td>16</td>\n",
       "      <td>U</td>\n",
       "      <td>GT3</td>\n",
       "      <td>T</td>\n",
       "      <td>3.0</td>\n",
       "      <td>3.0</td>\n",
       "      <td>other</td>\n",
       "      <td>other</td>\n",
       "      <td>home</td>\n",
       "      <td>father</td>\n",
       "      <td>1.0</td>\n",
       "      <td>2.0</td>\n",
       "      <td>0.0</td>\n",
       "      <td>no</td>\n",
       "      <td>yes</td>\n",
       "      <td>yes</td>\n",
       "      <td>no</td>\n",
       "      <td>yes</td>\n",
       "      <td>-6.0</td>\n",
       "      <td>yes</td>\n",
       "      <td>no</td>\n",
       "      <td>no</td>\n",
       "      <td>4.0</td>\n",
       "      <td>3.0</td>\n",
       "      <td>2.0</td>\n",
       "      <td>5.0</td>\n",
       "      <td>4.0</td>\n",
       "      <td>50.0</td>\n",
       "    </tr>\n",
       "    <tr>\n",
       "      <td>5</td>\n",
       "      <td>GP</td>\n",
       "      <td>M</td>\n",
       "      <td>16</td>\n",
       "      <td>U</td>\n",
       "      <td>LE3</td>\n",
       "      <td>T</td>\n",
       "      <td>4.0</td>\n",
       "      <td>3.0</td>\n",
       "      <td>services</td>\n",
       "      <td>other</td>\n",
       "      <td>reputation</td>\n",
       "      <td>mother</td>\n",
       "      <td>1.0</td>\n",
       "      <td>2.0</td>\n",
       "      <td>0.0</td>\n",
       "      <td>no</td>\n",
       "      <td>yes</td>\n",
       "      <td>yes</td>\n",
       "      <td>yes</td>\n",
       "      <td>yes</td>\n",
       "      <td>-6.0</td>\n",
       "      <td>yes</td>\n",
       "      <td>yes</td>\n",
       "      <td>no</td>\n",
       "      <td>5.0</td>\n",
       "      <td>4.0</td>\n",
       "      <td>2.0</td>\n",
       "      <td>5.0</td>\n",
       "      <td>10.0</td>\n",
       "      <td>75.0</td>\n",
       "    </tr>\n",
       "    <tr>\n",
       "      <td>6</td>\n",
       "      <td>GP</td>\n",
       "      <td>M</td>\n",
       "      <td>16</td>\n",
       "      <td>NaN</td>\n",
       "      <td>LE3</td>\n",
       "      <td>T</td>\n",
       "      <td>2.0</td>\n",
       "      <td>2.0</td>\n",
       "      <td>other</td>\n",
       "      <td>other</td>\n",
       "      <td>home</td>\n",
       "      <td>mother</td>\n",
       "      <td>1.0</td>\n",
       "      <td>2.0</td>\n",
       "      <td>0.0</td>\n",
       "      <td>no</td>\n",
       "      <td>no</td>\n",
       "      <td>no</td>\n",
       "      <td>no</td>\n",
       "      <td>yes</td>\n",
       "      <td>-6.0</td>\n",
       "      <td>yes</td>\n",
       "      <td>yes</td>\n",
       "      <td>no</td>\n",
       "      <td>4.0</td>\n",
       "      <td>4.0</td>\n",
       "      <td>4.0</td>\n",
       "      <td>3.0</td>\n",
       "      <td>0.0</td>\n",
       "      <td>55.0</td>\n",
       "    </tr>\n",
       "    <tr>\n",
       "      <td>7</td>\n",
       "      <td>GP</td>\n",
       "      <td>F</td>\n",
       "      <td>17</td>\n",
       "      <td>U</td>\n",
       "      <td>GT3</td>\n",
       "      <td>A</td>\n",
       "      <td>4.0</td>\n",
       "      <td>4.0</td>\n",
       "      <td>other</td>\n",
       "      <td>teacher</td>\n",
       "      <td>home</td>\n",
       "      <td>mother</td>\n",
       "      <td>2.0</td>\n",
       "      <td>2.0</td>\n",
       "      <td>0.0</td>\n",
       "      <td>yes</td>\n",
       "      <td>yes</td>\n",
       "      <td>no</td>\n",
       "      <td>no</td>\n",
       "      <td>yes</td>\n",
       "      <td>-6.0</td>\n",
       "      <td>yes</td>\n",
       "      <td>no</td>\n",
       "      <td>no</td>\n",
       "      <td>4.0</td>\n",
       "      <td>1.0</td>\n",
       "      <td>4.0</td>\n",
       "      <td>1.0</td>\n",
       "      <td>6.0</td>\n",
       "      <td>30.0</td>\n",
       "    </tr>\n",
       "    <tr>\n",
       "      <td>8</td>\n",
       "      <td>GP</td>\n",
       "      <td>M</td>\n",
       "      <td>15</td>\n",
       "      <td>U</td>\n",
       "      <td>LE3</td>\n",
       "      <td>A</td>\n",
       "      <td>3.0</td>\n",
       "      <td>2.0</td>\n",
       "      <td>services</td>\n",
       "      <td>other</td>\n",
       "      <td>home</td>\n",
       "      <td>mother</td>\n",
       "      <td>1.0</td>\n",
       "      <td>2.0</td>\n",
       "      <td>0.0</td>\n",
       "      <td>no</td>\n",
       "      <td>yes</td>\n",
       "      <td>yes</td>\n",
       "      <td>no</td>\n",
       "      <td>yes</td>\n",
       "      <td>-6.0</td>\n",
       "      <td>yes</td>\n",
       "      <td>yes</td>\n",
       "      <td>no</td>\n",
       "      <td>NaN</td>\n",
       "      <td>2.0</td>\n",
       "      <td>2.0</td>\n",
       "      <td>1.0</td>\n",
       "      <td>0.0</td>\n",
       "      <td>95.0</td>\n",
       "    </tr>\n",
       "    <tr>\n",
       "      <td>9</td>\n",
       "      <td>GP</td>\n",
       "      <td>M</td>\n",
       "      <td>15</td>\n",
       "      <td>U</td>\n",
       "      <td>NaN</td>\n",
       "      <td>NaN</td>\n",
       "      <td>3.0</td>\n",
       "      <td>4.0</td>\n",
       "      <td>other</td>\n",
       "      <td>other</td>\n",
       "      <td>home</td>\n",
       "      <td>mother</td>\n",
       "      <td>1.0</td>\n",
       "      <td>2.0</td>\n",
       "      <td>0.0</td>\n",
       "      <td>no</td>\n",
       "      <td>yes</td>\n",
       "      <td>yes</td>\n",
       "      <td>yes</td>\n",
       "      <td>yes</td>\n",
       "      <td>-6.0</td>\n",
       "      <td>yes</td>\n",
       "      <td>yes</td>\n",
       "      <td>no</td>\n",
       "      <td>5.0</td>\n",
       "      <td>5.0</td>\n",
       "      <td>1.0</td>\n",
       "      <td>5.0</td>\n",
       "      <td>0.0</td>\n",
       "      <td>75.0</td>\n",
       "    </tr>\n",
       "  </tbody>\n",
       "</table>\n",
       "</div>"
      ],
      "text/plain": [
       "  school sex  age address famsize Pstatus  Medu  Fedu      Mjob     Fjob  \\\n",
       "0     GP   F   18       U     NaN       A   4.0   4.0   at_home  teacher   \n",
       "1     GP   F   17       U     GT3     NaN   1.0   1.0   at_home    other   \n",
       "2     GP   F   15       U     LE3       T   1.0   1.0   at_home    other   \n",
       "3     GP   F   15       U     GT3       T   4.0   2.0    health      NaN   \n",
       "4     GP   F   16       U     GT3       T   3.0   3.0     other    other   \n",
       "5     GP   M   16       U     LE3       T   4.0   3.0  services    other   \n",
       "6     GP   M   16     NaN     LE3       T   2.0   2.0     other    other   \n",
       "7     GP   F   17       U     GT3       A   4.0   4.0     other  teacher   \n",
       "8     GP   M   15       U     LE3       A   3.0   2.0  services    other   \n",
       "9     GP   M   15       U     NaN     NaN   3.0   4.0     other    other   \n",
       "\n",
       "       reason guardian  traveltime  studytime  failures schoolsup famsup paid  \\\n",
       "0      course   mother         2.0        2.0       0.0       yes     no   no   \n",
       "1      course   father         1.0        2.0       0.0        no    yes   no   \n",
       "2       other   mother         1.0        2.0       3.0       yes     no  NaN   \n",
       "3        home   mother         1.0        3.0       0.0        no    yes  yes   \n",
       "4        home   father         1.0        2.0       0.0        no    yes  yes   \n",
       "5  reputation   mother         1.0        2.0       0.0        no    yes  yes   \n",
       "6        home   mother         1.0        2.0       0.0        no     no   no   \n",
       "7        home   mother         2.0        2.0       0.0       yes    yes   no   \n",
       "8        home   mother         1.0        2.0       0.0        no    yes  yes   \n",
       "9        home   mother         1.0        2.0       0.0        no    yes  yes   \n",
       "\n",
       "  activities nursery  studytime, granular higher internet romantic  famrel  \\\n",
       "0         no     yes                 -6.0    yes      NaN       no     4.0   \n",
       "1         no      no                 -6.0    yes      yes       no     5.0   \n",
       "2         no     yes                 -6.0    yes      yes      NaN     4.0   \n",
       "3        yes     yes                 -9.0    yes      yes      yes     3.0   \n",
       "4         no     yes                 -6.0    yes       no       no     4.0   \n",
       "5        yes     yes                 -6.0    yes      yes       no     5.0   \n",
       "6         no     yes                 -6.0    yes      yes       no     4.0   \n",
       "7         no     yes                 -6.0    yes       no       no     4.0   \n",
       "8         no     yes                 -6.0    yes      yes       no     NaN   \n",
       "9        yes     yes                 -6.0    yes      yes       no     5.0   \n",
       "\n",
       "   freetime  goout  health  absences  score  \n",
       "0       3.0    4.0     3.0       6.0   30.0  \n",
       "1       3.0    3.0     3.0       4.0   30.0  \n",
       "2       3.0    2.0     3.0      10.0   50.0  \n",
       "3       2.0    2.0     5.0       2.0   75.0  \n",
       "4       3.0    2.0     5.0       4.0   50.0  \n",
       "5       4.0    2.0     5.0      10.0   75.0  \n",
       "6       4.0    4.0     3.0       0.0   55.0  \n",
       "7       1.0    4.0     1.0       6.0   30.0  \n",
       "8       2.0    2.0     1.0       0.0   95.0  \n",
       "9       5.0    1.0     5.0       0.0   75.0  "
      ]
     },
     "execution_count": 236,
     "metadata": {},
     "output_type": "execute_result"
    }
   ],
   "source": [
    "# ======================================================================\n",
    "# 2.8. Итоговое задание\n",
    "# ======================================================================\n",
    "\n",
    "# Суть проекта — отследить влияние условий жизни учащихся в возрасте от 15 до 22 лет на их успеваемость по математике, \n",
    "# чтобы на ранней стадии выявлять студентов, находящихся в группе риска.\n",
    "# Для этого нужно построить модель, которая предсказывала бы результаты госэкзамена по математике для каждого ученика школы.\n",
    "\n",
    "# Датасет - stud_math.csv\n",
    "\n",
    "# ======================================================================\n",
    "# 1. Импортируем необходимые библиотеки\n",
    "# ======================================================================\n",
    "import numpy as np\n",
    "import pandas as pd\n",
    "import matplotlib.pyplot as plt\n",
    "import seaborn as sns\n",
    "from itertools import combinations\n",
    "from scipy.stats import ttest_ind\n",
    "\n",
    "# ======================================================================\n",
    "# 2. Выполним первичный осмотр данных\n",
    "# ======================================================================\n",
    "\n",
    "# Установим настроечные пар-ры датасета\n",
    "pd.set_option('display.max_rows', 50) # показывать больше строк\n",
    "pd.set_option('display.max_columns', 50) # показывать больше колонок\n",
    "\n",
    "# Загрузим датасет и посмотрим на него\n",
    "df_stud = pd.read_csv('stud_math.csv')\n",
    "df_stud.head(10)"
   ]
  },
  {
   "cell_type": "code",
   "execution_count": 237,
   "metadata": {},
   "outputs": [
    {
     "name": "stdout",
     "output_type": "stream",
     "text": [
      "<class 'pandas.core.frame.DataFrame'>\n",
      "RangeIndex: 395 entries, 0 to 394\n",
      "Data columns (total 30 columns):\n",
      "school                 395 non-null object\n",
      "sex                    395 non-null object\n",
      "age                    395 non-null int64\n",
      "address                378 non-null object\n",
      "famsize                368 non-null object\n",
      "Pstatus                350 non-null object\n",
      "Medu                   392 non-null float64\n",
      "Fedu                   371 non-null float64\n",
      "Mjob                   376 non-null object\n",
      "Fjob                   359 non-null object\n",
      "reason                 378 non-null object\n",
      "guardian               364 non-null object\n",
      "traveltime             367 non-null float64\n",
      "studytime              388 non-null float64\n",
      "failures               373 non-null float64\n",
      "schoolsup              386 non-null object\n",
      "famsup                 356 non-null object\n",
      "paid                   355 non-null object\n",
      "activities             381 non-null object\n",
      "nursery                379 non-null object\n",
      "studytime, granular    388 non-null float64\n",
      "higher                 375 non-null object\n",
      "internet               361 non-null object\n",
      "romantic               364 non-null object\n",
      "famrel                 368 non-null float64\n",
      "freetime               384 non-null float64\n",
      "goout                  387 non-null float64\n",
      "health                 380 non-null float64\n",
      "absences               383 non-null float64\n",
      "score                  389 non-null float64\n",
      "dtypes: float64(12), int64(1), object(17)\n",
      "memory usage: 92.7+ KB\n"
     ]
    }
   ],
   "source": [
    "# ======================================================================\n",
    "# В датасете представлены следующие данные:\n",
    "\n",
    "# school — аббревиатура школы, в которой учится ученик\n",
    "# sex — пол ученика ('F' - женский, 'M' - мужской)\n",
    "# age — возраст ученика (от 15 до 22)\n",
    "# address — тип адреса ученика ('U' - городской, 'R' - за городом)\n",
    "# famsize — размер семьи('LE3' <= 3, 'GT3' >3)\n",
    "\n",
    "# Pstatus — статус совместного жилья родителей ('T' - живут вместе 'A' - раздельно)\n",
    "# Medu — образование матери (0 - нет, 1 - 4 класса, 2 - 5-9 классы, 3 - среднее специальное или 11 классов, 4 - высшее)\n",
    "# Fedu — образование отца (0 - нет, 1 - 4 класса, 2 - 5-9 классы, 3 - среднее специальное или 11 классов, 4 - высшее)\n",
    "# Mjob — работа матери ('teacher' - учитель, 'health' - сфера здравоохранения, 'services' - гос служба, 'at_home' - не работает, 'other' - другое)\n",
    "# Fjob — работа отца ('teacher' - учитель, 'health' - сфера здравоохранения, 'services' - гос служба, 'at_home' - не работает, 'other' - другое)\n",
    "\n",
    "# reason — причина выбора школы ('home' - близость к дому, 'reputation' - репутация школы, 'course' - образовательная программа, 'other' - другое)\n",
    "# guardian — опекун ('mother' - мать, 'father' - отец, 'other' - другое)\n",
    "# traveltime — время в пути до школы (1 - <15 мин., 2 - 15-30 мин., 3 - 30-60 мин., 4 - >60 мин.)\n",
    "# studytime — время на учёбу помимо школы в неделю (1 - <2 часов, 2 - 2-5 часов, 3 - 5-10 часов, 4 - >10 часов)\n",
    "# failures — количество внеучебных неудач (n, если 1<=n<3, иначе 4)\n",
    "\n",
    "# schoolsup — дополнительная образовательная поддержка (yes или no)\n",
    "# famsup — семейная образовательная поддержка (yes или no)\n",
    "# paid — дополнительные платные занятия по математике (yes или no)\n",
    "# activities — дополнительные внеучебные занятия (yes или no)\n",
    "# nursery — посещал детский сад (yes или no)\n",
    "\n",
    "# higher — хочет получить высшее образование (yes или no)\n",
    "# internet — наличие интернета дома (yes или no)\n",
    "# romantic — в романтических отношениях (yes или no)\n",
    "# famrel — семейные отношения (от 1 - очень плохо до 5 - очень хорошо)\n",
    "# freetime — свободное время после школы (от 1 - очень мало до 5 - очень мого)\n",
    "\n",
    "# goout — проведение времени с друзьями (от 1 - очень мало до 5 - очень много)\n",
    "# health — текущее состояние здоровья (от 1 - очень плохо до 5 - очень хорошо)\n",
    "# absences — количество пропущенных занятий\n",
    "# score — баллы по госэкзамену по математике\n",
    "# ======================================================================\n",
    "\n",
    "# Посмотрим на основные характеристики датасета\n",
    "df_stud.info()\n",
    "\n",
    "# ======================================================================\n",
    "# Краткие выводы №1:\n",
    "# В датасете содержится 13 числовых и 17 строковых столбцов\n",
    "# в столбцах school, sex и age - не имеется пропусков; в остальных столбцах - пропуски имеются\n",
    "# ======================================================================"
   ]
  },
  {
   "cell_type": "code",
   "execution_count": 238,
   "metadata": {},
   "outputs": [],
   "source": [
    "# ======================================================================\n",
    "# 3. Выполним первичный анализ и преобразование данных в столбцах\n",
    "# ======================================================================\n",
    "\n",
    "# Преобразуем столбцы с ответами 'yes/no' в числовые: 0 - воздержался от ответа; 1 - no; 2 - yes\n",
    "# Для этого напишем специальную функцию преобзования значений\n",
    "def preobrazovanie_yes_no(name_column, text_print):\n",
    "    # преобразуем символьные данные в числовые коды\n",
    "    df_stud[name_column] = df_stud[name_column].apply(lambda x: int(x.replace('no', '1')) if x == 'no'\n",
    "                                                     else int(x.replace('yes', '2')) if x == 'yes' else int(0))\n",
    "    # напечатаем получившееся распределение\n",
    "    print('Распределение ' + str(text_print))\n",
    "    display(df_stud[name_column].value_counts())\n",
    "    return print('=' * 80)\n",
    "# ======================================================================"
   ]
  },
  {
   "cell_type": "code",
   "execution_count": 239,
   "metadata": {},
   "outputs": [
    {
     "name": "stdout",
     "output_type": "stream",
     "text": [
      "Распределение дополнительной образовательной поддержки:\n"
     ]
    },
    {
     "data": {
      "text/plain": [
       "1    335\n",
       "2     51\n",
       "0      9\n",
       "Name: schoolsup, dtype: int64"
      ]
     },
     "metadata": {},
     "output_type": "display_data"
    },
    {
     "name": "stdout",
     "output_type": "stream",
     "text": [
      "================================================================================\n",
      "Распределение семейной образовательной поддержки:\n"
     ]
    },
    {
     "data": {
      "text/plain": [
       "2    219\n",
       "1    137\n",
       "0     39\n",
       "Name: famsup, dtype: int64"
      ]
     },
     "metadata": {},
     "output_type": "display_data"
    },
    {
     "name": "stdout",
     "output_type": "stream",
     "text": [
      "================================================================================\n",
      "Распределение дополнительных платных занятий:\n"
     ]
    },
    {
     "data": {
      "text/plain": [
       "1    200\n",
       "2    155\n",
       "0     40\n",
       "Name: paid, dtype: int64"
      ]
     },
     "metadata": {},
     "output_type": "display_data"
    },
    {
     "name": "stdout",
     "output_type": "stream",
     "text": [
      "================================================================================\n",
      "Распределение дополнительных внеучебных занятий:\n"
     ]
    },
    {
     "data": {
      "text/plain": [
       "2    195\n",
       "1    186\n",
       "0     14\n",
       "Name: activities, dtype: int64"
      ]
     },
     "metadata": {},
     "output_type": "display_data"
    },
    {
     "name": "stdout",
     "output_type": "stream",
     "text": [
      "================================================================================\n",
      "Распределение вариантов посещения детского сада:\n"
     ]
    },
    {
     "data": {
      "text/plain": [
       "2    300\n",
       "1     79\n",
       "0     16\n",
       "Name: nursery, dtype: int64"
      ]
     },
     "metadata": {},
     "output_type": "display_data"
    },
    {
     "name": "stdout",
     "output_type": "stream",
     "text": [
      "================================================================================\n",
      "Распределение вариантов желания получать высшее образование:\n"
     ]
    },
    {
     "data": {
      "text/plain": [
       "2    356\n",
       "0     20\n",
       "1     19\n",
       "Name: higher, dtype: int64"
      ]
     },
     "metadata": {},
     "output_type": "display_data"
    },
    {
     "name": "stdout",
     "output_type": "stream",
     "text": [
      "================================================================================\n",
      "Распределение наличия дома интернета:\n"
     ]
    },
    {
     "data": {
      "text/plain": [
       "2    305\n",
       "1     56\n",
       "0     34\n",
       "Name: internet, dtype: int64"
      ]
     },
     "metadata": {},
     "output_type": "display_data"
    },
    {
     "name": "stdout",
     "output_type": "stream",
     "text": [
      "================================================================================\n",
      "Распределение наличия романтических отношений:\n"
     ]
    },
    {
     "data": {
      "text/plain": [
       "1    240\n",
       "2    124\n",
       "0     31\n",
       "Name: romantic, dtype: int64"
      ]
     },
     "metadata": {},
     "output_type": "display_data"
    },
    {
     "name": "stdout",
     "output_type": "stream",
     "text": [
      "================================================================================\n"
     ]
    }
   ],
   "source": [
    "preobrazovanie_yes_no('schoolsup', 'дополнительной образовательной поддержки:')\n",
    "preobrazovanie_yes_no('famsup', 'семейной образовательной поддержки:')\n",
    "preobrazovanie_yes_no('paid', 'дополнительных платных занятий:')\n",
    "preobrazovanie_yes_no('activities', 'дополнительных внеучебных занятий:')\n",
    "preobrazovanie_yes_no('nursery', 'вариантов посещения детского сада:')\n",
    "preobrazovanie_yes_no('higher', 'вариантов желания получать высшее образование:')\n",
    "preobrazovanie_yes_no('internet', 'наличия дома интернета:')\n",
    "preobrazovanie_yes_no('romantic', 'наличия романтических отношений:')"
   ]
  },
  {
   "cell_type": "code",
   "execution_count": 240,
   "metadata": {},
   "outputs": [],
   "source": [
    "# Преобразуем столбцы с бинарными (текстовыми) ответами в числовые: 0 - воздержался от ответа; 1 - no; 2 - yes\n",
    "# Для этого напишем специальную функцию преобзования значений\n",
    "def preobrazovanie_val_binary(name_column, val_1, val_2, text_print):\n",
    "    # преобразуем символьные данные в числовые коды\n",
    "    df_stud[name_column] = df_stud[name_column].apply(lambda x: int(x.replace(str(val_2), '1')) if x == val_2\n",
    "                                                     else int(x.replace(str(val_1), '2')) if x == val_1 else int(0))\n",
    "    # напечатаем получившееся распределение\n",
    "    print('Распределение ' + str(text_print))\n",
    "    display(df_stud[name_column].value_counts())\n",
    "    return print('=' * 80)\n",
    "# ======================================================================"
   ]
  },
  {
   "cell_type": "code",
   "execution_count": 241,
   "metadata": {},
   "outputs": [
    {
     "name": "stdout",
     "output_type": "stream",
     "text": [
      "Распределение аббревиатур школ:\n"
     ]
    },
    {
     "data": {
      "text/plain": [
       "2    349\n",
       "1     46\n",
       "Name: school, dtype: int64"
      ]
     },
     "metadata": {},
     "output_type": "display_data"
    },
    {
     "name": "stdout",
     "output_type": "stream",
     "text": [
      "================================================================================\n",
      "Распределение учащихся по полу:\n"
     ]
    },
    {
     "data": {
      "text/plain": [
       "1    208\n",
       "2    187\n",
       "Name: sex, dtype: int64"
      ]
     },
     "metadata": {},
     "output_type": "display_data"
    },
    {
     "name": "stdout",
     "output_type": "stream",
     "text": [
      "================================================================================\n",
      "Распределение типов адресов учащихся:\n"
     ]
    },
    {
     "data": {
      "text/plain": [
       "2    295\n",
       "1     83\n",
       "0     17\n",
       "Name: address, dtype: int64"
      ]
     },
     "metadata": {},
     "output_type": "display_data"
    },
    {
     "name": "stdout",
     "output_type": "stream",
     "text": [
      "================================================================================\n",
      "Распределение типов семей по их размеру:\n"
     ]
    },
    {
     "data": {
      "text/plain": [
       "1    261\n",
       "2    107\n",
       "0     27\n",
       "Name: famsize, dtype: int64"
      ]
     },
     "metadata": {},
     "output_type": "display_data"
    },
    {
     "name": "stdout",
     "output_type": "stream",
     "text": [
      "================================================================================\n",
      "Распределение статусов совместного жилья родителей:\n"
     ]
    },
    {
     "data": {
      "text/plain": [
       "2    314\n",
       "0     45\n",
       "1     36\n",
       "Name: Pstatus, dtype: int64"
      ]
     },
     "metadata": {},
     "output_type": "display_data"
    },
    {
     "name": "stdout",
     "output_type": "stream",
     "text": [
      "================================================================================\n"
     ]
    }
   ],
   "source": [
    "preobrazovanie_val_binary('school', 'GP', 'MS', 'аббревиатур школ:')\n",
    "preobrazovanie_val_binary('sex', 'M', 'F', 'учащихся по полу:')\n",
    "preobrazovanie_val_binary('address', 'U', 'R', 'типов адресов учащихся:')\n",
    "preobrazovanie_val_binary('famsize', 'LE3', 'GT3', 'типов семей по их размеру:')\n",
    "preobrazovanie_val_binary('Pstatus', 'T', 'A', 'статусов совместного жилья родителей:')"
   ]
  },
  {
   "cell_type": "code",
   "execution_count": 242,
   "metadata": {},
   "outputs": [],
   "source": [
    "# Посмотрим на распределения в числовых столбцах\n",
    "# Напишем для этого сразу компактную функцию\n",
    "def print_numeric_priznak(name_column, text_print):\n",
    "    print('Распределение ' + str(text_print))\n",
    "    display(df_stud[name_column].value_counts())\n",
    "    display(df_stud[name_column].hist())\n",
    "    display(df_stud[name_column].describe())\n",
    "    print(\"Пропущенных значений в столбце \" + str(name_column) + \":\", df_stud[name_column].isnull().sum())\n",
    "    print('=' * 80)"
   ]
  },
  {
   "cell_type": "code",
   "execution_count": 243,
   "metadata": {},
   "outputs": [
    {
     "name": "stdout",
     "output_type": "stream",
     "text": [
      "Распределение учащихся по возрасту\n"
     ]
    },
    {
     "data": {
      "text/plain": [
       "16    104\n",
       "17     98\n",
       "18     82\n",
       "15     82\n",
       "19     24\n",
       "20      3\n",
       "22      1\n",
       "21      1\n",
       "Name: age, dtype: int64"
      ]
     },
     "metadata": {},
     "output_type": "display_data"
    },
    {
     "data": {
      "text/plain": [
       "<matplotlib.axes._subplots.AxesSubplot at 0x16448fb5048>"
      ]
     },
     "metadata": {},
     "output_type": "display_data"
    },
    {
     "data": {
      "text/plain": [
       "count    395.000000\n",
       "mean      16.696203\n",
       "std        1.276043\n",
       "min       15.000000\n",
       "25%       16.000000\n",
       "50%       17.000000\n",
       "75%       18.000000\n",
       "max       22.000000\n",
       "Name: age, dtype: float64"
      ]
     },
     "metadata": {},
     "output_type": "display_data"
    },
    {
     "name": "stdout",
     "output_type": "stream",
     "text": [
      "Пропущенных значений в столбце age: 0\n",
      "================================================================================\n"
     ]
    },
    {
     "data": {
      "image/png": "[encoded data removed]",
      "text/plain": [
       "<Figure size 432x288 with 1 Axes>"
      ]
     },
     "metadata": {
      "needs_background": "light"
     },
     "output_type": "display_data"
    }
   ],
   "source": [
    "print_numeric_priznak('age', 'учащихся по возрасту')\n",
    "# print(\"Пропущенных значений в столбце 'age':\", df_stud['age'].isnull().sum())\n",
    "\n",
    "# Как мы видим из полученного распределения, приблизительно 95% учащихся находится в возрасте от 15 до 19 лет\n",
    "# Остальные данные - либо ошибочные выбросы, либо есть несколько человек от 20 до 22 лет"
   ]
  },
  {
   "cell_type": "code",
   "execution_count": 244,
   "metadata": {},
   "outputs": [
    {
     "name": "stdout",
     "output_type": "stream",
     "text": [
      "Распределение образования матерей\n"
     ]
    },
    {
     "data": {
      "text/plain": [
       "4.0    134\n",
       "2.0    102\n",
       "3.0     97\n",
       "1.0     59\n",
       "0.0      3\n",
       "Name: Medu, dtype: int64"
      ]
     },
     "metadata": {},
     "output_type": "display_data"
    },
    {
     "data": {
      "text/plain": [
       "<matplotlib.axes._subplots.AxesSubplot at 0x16448cacfc8>"
      ]
     },
     "metadata": {},
     "output_type": "display_data"
    },
    {
     "data": {
      "text/plain": [
       "count    395.000000\n",
       "mean       2.759494\n",
       "std        1.099321\n",
       "min        0.000000\n",
       "25%        2.000000\n",
       "50%        3.000000\n",
       "75%        4.000000\n",
       "max        4.000000\n",
       "Name: Medu, dtype: float64"
      ]
     },
     "metadata": {},
     "output_type": "display_data"
    },
    {
     "name": "stdout",
     "output_type": "stream",
     "text": [
      "Пропущенных значений в столбце Medu: 0\n",
      "================================================================================\n"
     ]
    },
    {
     "data": {
      "image/png": "[encoded data removed]",
      "text/plain": [
       "<Figure size 432x288 with 1 Axes>"
      ]
     },
     "metadata": {
      "needs_background": "light"
     },
     "output_type": "display_data"
    }
   ],
   "source": [
    "# Как мы видили ранее, у нас больше всего матерей с высшим образованием, поэтому принято решение\n",
    "# 3-м пропущенным значениям присвоить код 4\n",
    "df_stud['Medu'] = df_stud['Medu'].apply(lambda x: x if (x >= 0 and x <= 4) else int(4))\n",
    "print_numeric_priznak('Medu', 'образования матерей')"
   ]
  },
  {
   "cell_type": "code",
   "execution_count": 245,
   "metadata": {},
   "outputs": [
    {
     "name": "stdout",
     "output_type": "stream",
     "text": [
      "Распределение образования отцов\n"
     ]
    },
    {
     "data": {
      "text/plain": [
       "2.0    130\n",
       "3.0     96\n",
       "4.0     89\n",
       "1.0     78\n",
       "0.0      2\n",
       "Name: Fedu, dtype: int64"
      ]
     },
     "metadata": {},
     "output_type": "display_data"
    },
    {
     "data": {
      "text/plain": [
       "<matplotlib.axes._subplots.AxesSubplot at 0x16446feab08>"
      ]
     },
     "metadata": {},
     "output_type": "display_data"
    },
    {
     "data": {
      "text/plain": [
       "count    395.000000\n",
       "mean       2.486076\n",
       "std        1.062362\n",
       "min        0.000000\n",
       "25%        2.000000\n",
       "50%        2.000000\n",
       "75%        3.000000\n",
       "max        4.000000\n",
       "Name: Fedu, dtype: float64"
      ]
     },
     "metadata": {},
     "output_type": "display_data"
    },
    {
     "name": "stdout",
     "output_type": "stream",
     "text": [
      "Пропущенных значений в столбце Fedu: 0\n",
      "================================================================================\n"
     ]
    },
    {
     "data": {
      "image/png": "[encoded data removed]",
      "text/plain": [
       "<Figure size 432x288 with 1 Axes>"
      ]
     },
     "metadata": {
      "needs_background": "light"
     },
     "output_type": "display_data"
    }
   ],
   "source": [
    "# В данных Fedu представлено 4 статуса образования отца, пропущенных 24 значения и 1 явная ошибка - число 40\n",
    "# Как мы видили ранее, у нас больше всего отцов с неполным средним образованием, \n",
    "# и в данных закралась 1 ошибка, к-ую мы сразу исправим, а пропускам присвоим код 2\n",
    "df_stud['Fedu'] = df_stud['Fedu'].apply(lambda x: int(4) if x == 40 else x if (x >= 0 and x <= 4) else int(2))\n",
    "\n",
    "print_numeric_priznak('Fedu', 'образования отцов')"
   ]
  },
  {
   "cell_type": "code",
   "execution_count": 246,
   "metadata": {},
   "outputs": [
    {
     "name": "stdout",
     "output_type": "stream",
     "text": [
      "Распределение времени в пути до школы:\n"
     ]
    },
    {
     "data": {
      "text/plain": [
       "1.0    270\n",
       "2.0     96\n",
       "3.0     22\n",
       "4.0      7\n",
       "Name: traveltime, dtype: int64"
      ]
     },
     "metadata": {},
     "output_type": "display_data"
    },
    {
     "data": {
      "text/plain": [
       "<matplotlib.axes._subplots.AxesSubplot at 0x164464e24c8>"
      ]
     },
     "metadata": {},
     "output_type": "display_data"
    },
    {
     "data": {
      "text/plain": [
       "count    395.000000\n",
       "mean       1.407595\n",
       "std        0.678490\n",
       "min        1.000000\n",
       "25%        1.000000\n",
       "50%        1.000000\n",
       "75%        2.000000\n",
       "max        4.000000\n",
       "Name: traveltime, dtype: float64"
      ]
     },
     "metadata": {},
     "output_type": "display_data"
    },
    {
     "name": "stdout",
     "output_type": "stream",
     "text": [
      "Пропущенных значений в столбце traveltime: 0\n",
      "================================================================================\n"
     ]
    },
    {
     "data": {
      "image/png": "[encoded data removed]",
      "text/plain": [
       "<Figure size 432x288 with 1 Axes>"
      ]
     },
     "metadata": {
      "needs_background": "light"
     },
     "output_type": "display_data"
    }
   ],
   "source": [
    "# В столбце traveltime представлено 4 группы кодов, за к-ые учащиеся добираются до школы,\n",
    "# поскольку в данных содержится 28 пропусков, а наиболее вероятный код 1, то принято решение пропускам присвоить данный код\n",
    "df_stud['traveltime'] = df_stud['traveltime'].apply(lambda x: x if (x >= 1 and x <= 4) else int(1))\n",
    "\n",
    "print_numeric_priznak('traveltime', 'времени в пути до школы:')"
   ]
  },
  {
   "cell_type": "code",
   "execution_count": 247,
   "metadata": {},
   "outputs": [
    {
     "name": "stdout",
     "output_type": "stream",
     "text": [
      "Распределение времени на учёбу помимо школы в неделю:\n"
     ]
    },
    {
     "data": {
      "text/plain": [
       "2.0    201\n",
       "1.0    103\n",
       "3.0     64\n",
       "4.0     27\n",
       "Name: studytime, dtype: int64"
      ]
     },
     "metadata": {},
     "output_type": "display_data"
    },
    {
     "data": {
      "text/plain": [
       "<matplotlib.axes._subplots.AxesSubplot at 0x1644643fe48>"
      ]
     },
     "metadata": {},
     "output_type": "display_data"
    },
    {
     "data": {
      "text/plain": [
       "count    395.000000\n",
       "mean       2.037975\n",
       "std        0.834580\n",
       "min        1.000000\n",
       "25%        1.000000\n",
       "50%        2.000000\n",
       "75%        2.000000\n",
       "max        4.000000\n",
       "Name: studytime, dtype: float64"
      ]
     },
     "metadata": {},
     "output_type": "display_data"
    },
    {
     "name": "stdout",
     "output_type": "stream",
     "text": [
      "Пропущенных значений в столбце studytime: 0\n",
      "================================================================================\n"
     ]
    },
    {
     "data": {
      "image/png": "[encoded data removed]",
      "text/plain": [
       "<Figure size 432x288 with 1 Axes>"
      ]
     },
     "metadata": {
      "needs_background": "light"
     },
     "output_type": "display_data"
    }
   ],
   "source": [
    "# В столбце studytime представлено 4 группы кодов времени, к-ые учащиеся тратят на учёбу в неделю помимо времени на занятия,\n",
    "# поскольку в данных содержится 7 пропусков, а наиболее вероятный код 2, то принято решение пропускам присвоить данный код\n",
    "df_stud['studytime'] = df_stud['studytime'].apply(lambda x: x if (x >= 1 and x <= 4) else int(2))\n",
    "\n",
    "print_numeric_priznak('studytime', 'времени на учёбу помимо школы в неделю:')"
   ]
  },
  {
   "cell_type": "code",
   "execution_count": 248,
   "metadata": {},
   "outputs": [
    {
     "name": "stdout",
     "output_type": "stream",
     "text": [
      "Распределение количества внеучебных неудач:\n"
     ]
    },
    {
     "data": {
      "text/plain": [
       "0.0    315\n",
       "1.0     49\n",
       "2.0     16\n",
       "3.0     15\n",
       "Name: failures, dtype: int64"
      ]
     },
     "metadata": {},
     "output_type": "display_data"
    },
    {
     "data": {
      "text/plain": [
       "<matplotlib.axes._subplots.AxesSubplot at 0x16446020188>"
      ]
     },
     "metadata": {},
     "output_type": "display_data"
    },
    {
     "data": {
      "text/plain": [
       "count    395.000000\n",
       "mean       0.318987\n",
       "std        0.726244\n",
       "min        0.000000\n",
       "25%        0.000000\n",
       "50%        0.000000\n",
       "75%        0.000000\n",
       "max        3.000000\n",
       "Name: failures, dtype: float64"
      ]
     },
     "metadata": {},
     "output_type": "display_data"
    },
    {
     "name": "stdout",
     "output_type": "stream",
     "text": [
      "Пропущенных значений в столбце failures: 0\n",
      "================================================================================\n"
     ]
    },
    {
     "data": {
      "image/png": "[encoded data removed]",
      "text/plain": [
       "<Figure size 432x288 with 1 Axes>"
      ]
     },
     "metadata": {
      "needs_background": "light"
     },
     "output_type": "display_data"
    }
   ],
   "source": [
    "# В столбце failures представлено 4 группы кодов кол-ва неудач, \n",
    "# поскольку в данных содержится 22 пропусков, а наиболее вероятный код 0, то принято решение пропускам присвоить данный код\n",
    "df_stud['failures'] = df_stud['failures'].apply(lambda x: x if (x >= 0 and x <= 3) else int(0))\n",
    "\n",
    "print_numeric_priznak('failures', 'количества внеучебных неудач:')"
   ]
  },
  {
   "cell_type": "code",
   "execution_count": 249,
   "metadata": {},
   "outputs": [
    {
     "name": "stdout",
     "output_type": "stream",
     "text": [
      "Распределение оценок семейных отношений:\n"
     ]
    },
    {
     "data": {
      "text/plain": [
       "4.0    209\n",
       "5.0     99\n",
       "3.0     62\n",
       "2.0     17\n",
       "1.0      8\n",
       "Name: famrel, dtype: int64"
      ]
     },
     "metadata": {},
     "output_type": "display_data"
    },
    {
     "data": {
      "text/plain": [
       "<matplotlib.axes._subplots.AxesSubplot at 0x16446c3ef88>"
      ]
     },
     "metadata": {},
     "output_type": "display_data"
    },
    {
     "data": {
      "text/plain": [
       "count    395.000000\n",
       "mean       3.946835\n",
       "std        0.872425\n",
       "min        1.000000\n",
       "25%        4.000000\n",
       "50%        4.000000\n",
       "75%        4.500000\n",
       "max        5.000000\n",
       "Name: famrel, dtype: float64"
      ]
     },
     "metadata": {},
     "output_type": "display_data"
    },
    {
     "name": "stdout",
     "output_type": "stream",
     "text": [
      "Пропущенных значений в столбце famrel: 0\n",
      "================================================================================\n"
     ]
    },
    {
     "data": {
      "image/png": "[encoded data removed]",
      "text/plain": [
       "<Figure size 432x288 with 1 Axes>"
      ]
     },
     "metadata": {
      "needs_background": "light"
     },
     "output_type": "display_data"
    }
   ],
   "source": [
    "# В столбце famrel представлено 5 градаций оценок семейных отношений, к-ые указали учащиеся,\n",
    "# поскольку в данных содержится 1 явная ошибка и 27 пропусков, а наиболее вероятная оценка 4, то принято решение пропускам присвоить данную оценку\n",
    "df_stud['famrel'] = df_stud['famrel'].apply(lambda x: int(1) if x == -1 else x if (x >= 1 and x <= 5) else int(4))\n",
    "\n",
    "print_numeric_priznak('famrel', 'оценок семейных отношений:')"
   ]
  },
  {
   "cell_type": "code",
   "execution_count": 250,
   "metadata": {},
   "outputs": [
    {
     "name": "stdout",
     "output_type": "stream",
     "text": [
      "Распределение оценок свободного времени:\n"
     ]
    },
    {
     "data": {
      "text/plain": [
       "3.0    164\n",
       "4.0    112\n",
       "2.0     63\n",
       "5.0     38\n",
       "1.0     18\n",
       "Name: freetime, dtype: int64"
      ]
     },
     "metadata": {},
     "output_type": "display_data"
    },
    {
     "data": {
      "text/plain": [
       "<matplotlib.axes._subplots.AxesSubplot at 0x16446510e48>"
      ]
     },
     "metadata": {},
     "output_type": "display_data"
    },
    {
     "data": {
      "text/plain": [
       "count    395.000000\n",
       "mean       3.225316\n",
       "std        0.980711\n",
       "min        1.000000\n",
       "25%        3.000000\n",
       "50%        3.000000\n",
       "75%        4.000000\n",
       "max        5.000000\n",
       "Name: freetime, dtype: float64"
      ]
     },
     "metadata": {},
     "output_type": "display_data"
    },
    {
     "name": "stdout",
     "output_type": "stream",
     "text": [
      "Пропущенных значений в столбце freetime: 0\n",
      "================================================================================\n"
     ]
    },
    {
     "data": {
      "image/png": "[encoded data removed]",
      "text/plain": [
       "<Figure size 432x288 with 1 Axes>"
      ]
     },
     "metadata": {
      "needs_background": "light"
     },
     "output_type": "display_data"
    }
   ],
   "source": [
    "# В столбце freetime представлено 5 градаций оценок свободного времени, к-ые указали учащиеся,\n",
    "# поскольку в данных содержится 11 пропусков, а наиболее вероятная оценка 3, то принято решение пропускам присвоить данную оценку\n",
    "df_stud['freetime'] = df_stud['freetime'].apply(lambda x: x if (x >= 1 and x <= 5) else int(3))\n",
    "\n",
    "print_numeric_priznak('freetime', 'оценок свободного времени:')"
   ]
  },
  {
   "cell_type": "code",
   "execution_count": 251,
   "metadata": {},
   "outputs": [
    {
     "name": "stdout",
     "output_type": "stream",
     "text": [
      "Распределение оценок проведения времени с друзьями:\n"
     ]
    },
    {
     "data": {
      "text/plain": [
       "3.0    135\n",
       "2.0    101\n",
       "4.0     84\n",
       "5.0     52\n",
       "1.0     23\n",
       "Name: goout, dtype: int64"
      ]
     },
     "metadata": {},
     "output_type": "display_data"
    },
    {
     "data": {
      "text/plain": [
       "<matplotlib.axes._subplots.AxesSubplot at 0x16446b21108>"
      ]
     },
     "metadata": {},
     "output_type": "display_data"
    },
    {
     "data": {
      "text/plain": [
       "count    395.000000\n",
       "mean       3.103797\n",
       "std        1.104610\n",
       "min        1.000000\n",
       "25%        2.000000\n",
       "50%        3.000000\n",
       "75%        4.000000\n",
       "max        5.000000\n",
       "Name: goout, dtype: float64"
      ]
     },
     "metadata": {},
     "output_type": "display_data"
    },
    {
     "name": "stdout",
     "output_type": "stream",
     "text": [
      "Пропущенных значений в столбце goout: 0\n",
      "================================================================================\n"
     ]
    },
    {
     "data": {
      "image/png": "[encoded data removed]",
      "text/plain": [
       "<Figure size 432x288 with 1 Axes>"
      ]
     },
     "metadata": {
      "needs_background": "light"
     },
     "output_type": "display_data"
    }
   ],
   "source": [
    "# В столбце goout представлено 5 градаций оценок проведения времени с друзьями, к-ые указали учащиеся,\n",
    "# поскольку в данных содержится 8 пропусков, а наиболее вероятная оценка 3, то принято решение пропускам присвоить данную оценку\n",
    "df_stud['goout'] = df_stud['goout'].apply(lambda x: x if (x >= 1 and x <= 5) else int(3))\n",
    "\n",
    "print_numeric_priznak('goout', 'оценок проведения времени с друзьями:')"
   ]
  },
  {
   "cell_type": "code",
   "execution_count": 252,
   "metadata": {},
   "outputs": [
    {
     "name": "stdout",
     "output_type": "stream",
     "text": [
      "Распределение оценок текущего состояния здоровья:\n"
     ]
    },
    {
     "data": {
      "text/plain": [
       "5.0    153\n",
       "3.0     89\n",
       "4.0     63\n",
       "1.0     47\n",
       "2.0     43\n",
       "Name: health, dtype: int64"
      ]
     },
     "metadata": {},
     "output_type": "display_data"
    },
    {
     "data": {
      "text/plain": [
       "<matplotlib.axes._subplots.AxesSubplot at 0x16446c1a748>"
      ]
     },
     "metadata": {},
     "output_type": "display_data"
    },
    {
     "data": {
      "text/plain": [
       "count    395.000000\n",
       "mean       3.587342\n",
       "std        1.397729\n",
       "min        1.000000\n",
       "25%        3.000000\n",
       "50%        4.000000\n",
       "75%        5.000000\n",
       "max        5.000000\n",
       "Name: health, dtype: float64"
      ]
     },
     "metadata": {},
     "output_type": "display_data"
    },
    {
     "name": "stdout",
     "output_type": "stream",
     "text": [
      "Пропущенных значений в столбце health: 0\n",
      "================================================================================\n"
     ]
    },
    {
     "data": {
      "image/png": "[encoded data removed]",
      "text/plain": [
       "<Figure size 432x288 with 1 Axes>"
      ]
     },
     "metadata": {
      "needs_background": "light"
     },
     "output_type": "display_data"
    }
   ],
   "source": [
    "# В столбце health представлено 5 градаций оценок текущего состояния здоровья, к-ые указали учащиеся,\n",
    "# поскольку в данных содержится 15 пропусков, а наиболее вероятная оценка 5, то принято решение пропускам присвоить данную оценку\n",
    "df_stud['health'] = df_stud['health'].apply(lambda x: x if (x >= 1 and x <= 5) else int(5))\n",
    "\n",
    "print_numeric_priznak('health', 'оценок текущего состояния здоровья:')"
   ]
  },
  {
   "cell_type": "code",
   "execution_count": 253,
   "metadata": {},
   "outputs": [
    {
     "name": "stdout",
     "output_type": "stream",
     "text": [
      "25-й перцентиль: 0.0, 75-й перцентиль: 8.0, IQR: 8.0,  Границы выбросов: [-12.0, 20.0].\n"
     ]
    },
    {
     "data": {
      "text/plain": [
       "<matplotlib.legend.Legend at 0x16446486e48>"
      ]
     },
     "execution_count": 253,
     "metadata": {},
     "output_type": "execute_result"
    },
    {
     "data": {
      "image/png": "[encoded data removed]",
      "text/plain": [
       "<Figure size 432x288 with 1 Axes>"
      ]
     },
     "metadata": {
      "needs_background": "light"
     },
     "output_type": "display_data"
    }
   ],
   "source": [
    "# Проверим столбец absences на наличие выбросов\n",
    "median = df_stud.absences.median()\n",
    "perc_25 = df_stud.absences.quantile(0.25)\n",
    "perc_75 = df_stud.absences.quantile(0.75)\n",
    "IQR = perc_75 - perc_25\n",
    "\n",
    "print('25-й перцентиль: {},'.format(perc_25), '75-й перцентиль: {},'.format(perc_75)\n",
    "      , \"IQR: {}, \".format(IQR),\"Границы выбросов: [{f}, {l}].\".format(f = perc_25 - 1.5 * IQR, l = perc_75 + 1.5 * IQR))\n",
    "\n",
    "df_stud.absences.loc[df_stud.absences.between(perc_25 - 1.5 * IQR, perc_75 + 1.5 * IQR)].hist(bins = 10, range = (0, 10), \n",
    "                                                                                             label = 'IQR')\n",
    "plt.legend()"
   ]
  },
  {
   "cell_type": "code",
   "execution_count": 254,
   "metadata": {},
   "outputs": [
    {
     "name": "stdout",
     "output_type": "stream",
     "text": [
      "Распределение кол-ва пропущенных занятий:\n"
     ]
    },
    {
     "data": {
      "text/plain": [
       "0    186\n",
       "1    124\n",
       "2     57\n",
       "3     19\n",
       "4      9\n",
       "Name: absences, dtype: int64"
      ]
     },
     "metadata": {},
     "output_type": "display_data"
    },
    {
     "data": {
      "text/plain": [
       "<matplotlib.axes._subplots.AxesSubplot at 0x1644612cb08>"
      ]
     },
     "metadata": {},
     "output_type": "display_data"
    },
    {
     "data": {
      "text/plain": [
       "count    395.000000\n",
       "mean       0.837975\n",
       "std        0.994439\n",
       "min        0.000000\n",
       "25%        0.000000\n",
       "50%        1.000000\n",
       "75%        1.000000\n",
       "max        4.000000\n",
       "Name: absences, dtype: float64"
      ]
     },
     "metadata": {},
     "output_type": "display_data"
    },
    {
     "name": "stdout",
     "output_type": "stream",
     "text": [
      "Пропущенных значений в столбце absences: 0\n",
      "================================================================================\n"
     ]
    },
    {
     "data": {
      "image/png": "[encoded data removed]",
      "text/plain": [
       "<Figure size 432x288 with 1 Axes>"
      ]
     },
     "metadata": {
      "needs_background": "light"
     },
     "output_type": "display_data"
    }
   ],
   "source": [
    "# В столбце absences представлено распределение кол-ва пропущенных занятий, к-ые указали учащиеся,\n",
    "# в данных явно заметны выбросы, поэтому принято решение, не выбрасывать данные, но ввести 5 бальную градацию кол-ва пропусков\n",
    "# 0 - 0 - 2 пропусков; 1 - > 2 и <= 8; 2 - > 8 и <= 16; 3 - > 16 и <= 26; 4 - > 26\n",
    "# поскольку в данных содержится 12 пропусков, а наиболее вероятное кол-во равно оценке 0, то принято решение пропускам присвоить данную оценку\n",
    "df_stud['absences'] = df_stud['absences'].apply(lambda x: int(0) if (x >= 0 and x <= 2)\n",
    "                                                else int(1) if (x > 2 and x <= 8) \n",
    "                                                else int(2) if (x > 8 and x <= 16)\n",
    "                                                else int(3) if (x > 16 and x <= 26)\n",
    "                                                else int(4) if (x > 26)\n",
    "                                                else int(0))\n",
    "\n",
    "print_numeric_priznak('absences', 'кол-ва пропущенных занятий:')"
   ]
  },
  {
   "cell_type": "code",
   "execution_count": 255,
   "metadata": {},
   "outputs": [
    {
     "name": "stdout",
     "output_type": "stream",
     "text": [
      "Распределение оценок по математике:\n"
     ]
    },
    {
     "data": {
      "text/plain": [
       "50.0     54\n",
       "55.0     46\n",
       "0.0      37\n",
       "75.0     33\n",
       "65.0     31\n",
       "40.0     31\n",
       "60.0     31\n",
       "70.0     27\n",
       "45.0     27\n",
       "80.0     16\n",
       "30.0     15\n",
       "90.0     12\n",
       "35.0      9\n",
       "25.0      7\n",
       "85.0      6\n",
       "95.0      5\n",
       "100.0     1\n",
       "20.0      1\n",
       "Name: score, dtype: int64"
      ]
     },
     "metadata": {},
     "output_type": "display_data"
    },
    {
     "data": {
      "text/plain": [
       "<matplotlib.axes._subplots.AxesSubplot at 0x164469a5e08>"
      ]
     },
     "metadata": {},
     "output_type": "display_data"
    },
    {
     "data": {
      "text/plain": [
       "count    389.000000\n",
       "mean      52.262211\n",
       "std       22.919022\n",
       "min        0.000000\n",
       "25%       40.000000\n",
       "50%       55.000000\n",
       "75%       70.000000\n",
       "max      100.000000\n",
       "Name: score, dtype: float64"
      ]
     },
     "metadata": {},
     "output_type": "display_data"
    },
    {
     "name": "stdout",
     "output_type": "stream",
     "text": [
      "Пропущенных значений в столбце score: 6\n",
      "================================================================================\n"
     ]
    },
    {
     "data": {
      "image/png": "[encoded data removed]",
      "text/plain": [
       "<Figure size 432x288 with 1 Axes>"
      ]
     },
     "metadata": {
      "needs_background": "light"
     },
     "output_type": "display_data"
    }
   ],
   "source": [
    "# Взглянем на распределение оценок по математике\n",
    "print_numeric_priznak('score', 'оценок по математике:')"
   ]
  },
  {
   "cell_type": "code",
   "execution_count": 256,
   "metadata": {},
   "outputs": [
    {
     "name": "stdout",
     "output_type": "stream",
     "text": [
      "25-й перцентиль: 40.0, 75-й перцентиль: 70.0, IQR: 30.0,  Границы выбросов: [-5.0, 115.0].\n"
     ]
    },
    {
     "data": {
      "text/plain": [
       "<matplotlib.legend.Legend at 0x164466cff48>"
      ]
     },
     "execution_count": 256,
     "metadata": {},
     "output_type": "execute_result"
    },
    {
     "data": {
      "image/png": "[encoded data removed]",
      "text/plain": [
       "<Figure size 432x288 with 1 Axes>"
      ]
     },
     "metadata": {
      "needs_background": "light"
     },
     "output_type": "display_data"
    }
   ],
   "source": [
    "# Проверим столбец score на наличие выбросов\n",
    "median = df_stud.score.median()\n",
    "perc_25 = df_stud.score.quantile(0.25)\n",
    "perc_75 = df_stud.score.quantile(0.75)\n",
    "IQR = perc_75 - perc_25\n",
    "\n",
    "print('25-й перцентиль: {},'.format(perc_25), '75-й перцентиль: {},'.format(perc_75)\n",
    "      , \"IQR: {}, \".format(IQR),\"Границы выбросов: [{f}, {l}].\".format(f = perc_25 - 1.5 * IQR, l = perc_75 + 1.5 * IQR))\n",
    "\n",
    "df_stud.absences.loc[df_stud.score.between(perc_25 - 1.5 * IQR, perc_75 + 1.5 * IQR)].hist(bins = 10, range = (0, 10), \n",
    "                                                                                             label = 'IQR')\n",
    "plt.legend()"
   ]
  },
  {
   "cell_type": "code",
   "execution_count": 257,
   "metadata": {},
   "outputs": [
    {
     "data": {
      "text/html": [
       "<div>\n",
       "<style scoped>\n",
       "    .dataframe tbody tr th:only-of-type {\n",
       "        vertical-align: middle;\n",
       "    }\n",
       "\n",
       "    .dataframe tbody tr th {\n",
       "        vertical-align: top;\n",
       "    }\n",
       "\n",
       "    .dataframe thead th {\n",
       "        text-align: right;\n",
       "    }\n",
       "</style>\n",
       "<table border=\"1\" class=\"dataframe\">\n",
       "  <thead>\n",
       "    <tr style=\"text-align: right;\">\n",
       "      <th></th>\n",
       "      <th>school</th>\n",
       "      <th>sex</th>\n",
       "      <th>age</th>\n",
       "      <th>address</th>\n",
       "      <th>famsize</th>\n",
       "      <th>Pstatus</th>\n",
       "      <th>Medu</th>\n",
       "      <th>Fedu</th>\n",
       "      <th>traveltime</th>\n",
       "      <th>studytime</th>\n",
       "      <th>failures</th>\n",
       "      <th>schoolsup</th>\n",
       "      <th>famsup</th>\n",
       "      <th>paid</th>\n",
       "      <th>activities</th>\n",
       "      <th>nursery</th>\n",
       "      <th>studytime, granular</th>\n",
       "      <th>higher</th>\n",
       "      <th>internet</th>\n",
       "      <th>romantic</th>\n",
       "      <th>famrel</th>\n",
       "      <th>freetime</th>\n",
       "      <th>goout</th>\n",
       "      <th>health</th>\n",
       "      <th>absences</th>\n",
       "      <th>score</th>\n",
       "    </tr>\n",
       "  </thead>\n",
       "  <tbody>\n",
       "    <tr>\n",
       "      <td>school</td>\n",
       "      <td>1.000000</td>\n",
       "      <td>0.012286</td>\n",
       "      <td>-0.377610</td>\n",
       "      <td>0.281753</td>\n",
       "      <td>-0.067688</td>\n",
       "      <td>-0.102607</td>\n",
       "      <td>0.136125</td>\n",
       "      <td>0.084498</td>\n",
       "      <td>-0.235860</td>\n",
       "      <td>0.092290</td>\n",
       "      <td>-0.068841</td>\n",
       "      <td>0.145050</td>\n",
       "      <td>0.058673</td>\n",
       "      <td>-0.007499</td>\n",
       "      <td>0.084920</td>\n",
       "      <td>0.134599</td>\n",
       "      <td>-0.092700</td>\n",
       "      <td>0.035167</td>\n",
       "      <td>0.032450</td>\n",
       "      <td>-0.056690</td>\n",
       "      <td>0.032196</td>\n",
       "      <td>-0.037352</td>\n",
       "      <td>0.005542</td>\n",
       "      <td>0.050984</td>\n",
       "      <td>0.052025</td>\n",
       "      <td>0.044524</td>\n",
       "    </tr>\n",
       "    <tr>\n",
       "      <td>sex</td>\n",
       "      <td>0.012286</td>\n",
       "      <td>1.000000</td>\n",
       "      <td>-0.028606</td>\n",
       "      <td>-0.015043</td>\n",
       "      <td>0.038315</td>\n",
       "      <td>0.020145</td>\n",
       "      <td>0.083011</td>\n",
       "      <td>0.024390</td>\n",
       "      <td>0.050730</td>\n",
       "      <td>-0.304775</td>\n",
       "      <td>0.030405</td>\n",
       "      <td>-0.133653</td>\n",
       "      <td>-0.039618</td>\n",
       "      <td>-0.098664</td>\n",
       "      <td>0.074598</td>\n",
       "      <td>-0.004295</td>\n",
       "      <td>0.307566</td>\n",
       "      <td>-0.181119</td>\n",
       "      <td>-0.026848</td>\n",
       "      <td>-0.139999</td>\n",
       "      <td>0.046215</td>\n",
       "      <td>0.232259</td>\n",
       "      <td>0.085441</td>\n",
       "      <td>0.142264</td>\n",
       "      <td>-0.044422</td>\n",
       "      <td>0.099285</td>\n",
       "    </tr>\n",
       "    <tr>\n",
       "      <td>age</td>\n",
       "      <td>-0.377610</td>\n",
       "      <td>-0.028606</td>\n",
       "      <td>1.000000</td>\n",
       "      <td>-0.141083</td>\n",
       "      <td>0.012018</td>\n",
       "      <td>0.008104</td>\n",
       "      <td>-0.160777</td>\n",
       "      <td>-0.154781</td>\n",
       "      <td>0.084755</td>\n",
       "      <td>-0.015355</td>\n",
       "      <td>0.228081</td>\n",
       "      <td>-0.239681</td>\n",
       "      <td>-0.105109</td>\n",
       "      <td>0.009123</td>\n",
       "      <td>-0.031692</td>\n",
       "      <td>-0.129643</td>\n",
       "      <td>0.015556</td>\n",
       "      <td>-0.066201</td>\n",
       "      <td>-0.065962</td>\n",
       "      <td>0.161705</td>\n",
       "      <td>0.065250</td>\n",
       "      <td>0.026443</td>\n",
       "      <td>0.134069</td>\n",
       "      <td>-0.060506</td>\n",
       "      <td>0.205128</td>\n",
       "      <td>-0.155726</td>\n",
       "    </tr>\n",
       "    <tr>\n",
       "      <td>address</td>\n",
       "      <td>0.281753</td>\n",
       "      <td>-0.015043</td>\n",
       "      <td>-0.141083</td>\n",
       "      <td>1.000000</td>\n",
       "      <td>0.023031</td>\n",
       "      <td>-0.072169</td>\n",
       "      <td>0.084382</td>\n",
       "      <td>0.104948</td>\n",
       "      <td>-0.194893</td>\n",
       "      <td>-0.036696</td>\n",
       "      <td>-0.120126</td>\n",
       "      <td>0.005480</td>\n",
       "      <td>-0.025744</td>\n",
       "      <td>0.015051</td>\n",
       "      <td>-0.019713</td>\n",
       "      <td>0.123815</td>\n",
       "      <td>0.036626</td>\n",
       "      <td>-0.014409</td>\n",
       "      <td>0.046990</td>\n",
       "      <td>0.004394</td>\n",
       "      <td>-0.038655</td>\n",
       "      <td>-0.022089</td>\n",
       "      <td>-0.016303</td>\n",
       "      <td>-0.057746</td>\n",
       "      <td>0.047170</td>\n",
       "      <td>0.067663</td>\n",
       "    </tr>\n",
       "    <tr>\n",
       "      <td>famsize</td>\n",
       "      <td>-0.067688</td>\n",
       "      <td>0.038315</td>\n",
       "      <td>0.012018</td>\n",
       "      <td>0.023031</td>\n",
       "      <td>1.000000</td>\n",
       "      <td>-0.017240</td>\n",
       "      <td>-0.028541</td>\n",
       "      <td>-0.008241</td>\n",
       "      <td>0.009526</td>\n",
       "      <td>-0.044706</td>\n",
       "      <td>0.009466</td>\n",
       "      <td>-0.018624</td>\n",
       "      <td>-0.024002</td>\n",
       "      <td>-0.067358</td>\n",
       "      <td>-0.079257</td>\n",
       "      <td>0.073900</td>\n",
       "      <td>0.045456</td>\n",
       "      <td>0.038317</td>\n",
       "      <td>-0.058728</td>\n",
       "      <td>-0.030630</td>\n",
       "      <td>-0.019935</td>\n",
       "      <td>-0.014319</td>\n",
       "      <td>0.057554</td>\n",
       "      <td>-0.036488</td>\n",
       "      <td>0.023161</td>\n",
       "      <td>0.066200</td>\n",
       "    </tr>\n",
       "    <tr>\n",
       "      <td>Pstatus</td>\n",
       "      <td>-0.102607</td>\n",
       "      <td>0.020145</td>\n",
       "      <td>0.008104</td>\n",
       "      <td>-0.072169</td>\n",
       "      <td>-0.017240</td>\n",
       "      <td>1.000000</td>\n",
       "      <td>-0.032156</td>\n",
       "      <td>-0.074229</td>\n",
       "      <td>-0.048401</td>\n",
       "      <td>0.026336</td>\n",
       "      <td>0.048093</td>\n",
       "      <td>-0.046580</td>\n",
       "      <td>-0.014681</td>\n",
       "      <td>-0.067155</td>\n",
       "      <td>0.038535</td>\n",
       "      <td>-0.010040</td>\n",
       "      <td>-0.026351</td>\n",
       "      <td>0.064960</td>\n",
       "      <td>-0.003380</td>\n",
       "      <td>0.063187</td>\n",
       "      <td>0.027443</td>\n",
       "      <td>0.075122</td>\n",
       "      <td>0.000270</td>\n",
       "      <td>0.000014</td>\n",
       "      <td>-0.108569</td>\n",
       "      <td>-0.040159</td>\n",
       "    </tr>\n",
       "    <tr>\n",
       "      <td>Medu</td>\n",
       "      <td>0.136125</td>\n",
       "      <td>0.083011</td>\n",
       "      <td>-0.160777</td>\n",
       "      <td>0.084382</td>\n",
       "      <td>-0.028541</td>\n",
       "      <td>-0.032156</td>\n",
       "      <td>1.000000</td>\n",
       "      <td>0.587159</td>\n",
       "      <td>-0.164282</td>\n",
       "      <td>0.073607</td>\n",
       "      <td>-0.243821</td>\n",
       "      <td>-0.005527</td>\n",
       "      <td>0.121918</td>\n",
       "      <td>0.078098</td>\n",
       "      <td>0.091967</td>\n",
       "      <td>0.179012</td>\n",
       "      <td>-0.074156</td>\n",
       "      <td>0.071468</td>\n",
       "      <td>0.119186</td>\n",
       "      <td>0.001458</td>\n",
       "      <td>-0.013366</td>\n",
       "      <td>0.029204</td>\n",
       "      <td>0.062412</td>\n",
       "      <td>-0.066406</td>\n",
       "      <td>0.108208</td>\n",
       "      <td>0.200890</td>\n",
       "    </tr>\n",
       "    <tr>\n",
       "      <td>Fedu</td>\n",
       "      <td>0.084498</td>\n",
       "      <td>0.024390</td>\n",
       "      <td>-0.154781</td>\n",
       "      <td>0.104948</td>\n",
       "      <td>-0.008241</td>\n",
       "      <td>-0.074229</td>\n",
       "      <td>0.587159</td>\n",
       "      <td>1.000000</td>\n",
       "      <td>-0.120629</td>\n",
       "      <td>0.007754</td>\n",
       "      <td>-0.260690</td>\n",
       "      <td>0.041903</td>\n",
       "      <td>0.187701</td>\n",
       "      <td>0.026497</td>\n",
       "      <td>0.076112</td>\n",
       "      <td>0.134340</td>\n",
       "      <td>-0.007778</td>\n",
       "      <td>0.133219</td>\n",
       "      <td>0.027878</td>\n",
       "      <td>0.011488</td>\n",
       "      <td>-0.024077</td>\n",
       "      <td>-0.029868</td>\n",
       "      <td>0.039084</td>\n",
       "      <td>-0.009862</td>\n",
       "      <td>0.031493</td>\n",
       "      <td>0.124829</td>\n",
       "    </tr>\n",
       "    <tr>\n",
       "      <td>traveltime</td>\n",
       "      <td>-0.235860</td>\n",
       "      <td>0.050730</td>\n",
       "      <td>0.084755</td>\n",
       "      <td>-0.194893</td>\n",
       "      <td>0.009526</td>\n",
       "      <td>-0.048401</td>\n",
       "      <td>-0.164282</td>\n",
       "      <td>-0.120629</td>\n",
       "      <td>1.000000</td>\n",
       "      <td>-0.094637</td>\n",
       "      <td>0.049670</td>\n",
       "      <td>0.028706</td>\n",
       "      <td>-0.080418</td>\n",
       "      <td>-0.034315</td>\n",
       "      <td>-0.005123</td>\n",
       "      <td>-0.047449</td>\n",
       "      <td>0.095724</td>\n",
       "      <td>-0.109086</td>\n",
       "      <td>-0.038759</td>\n",
       "      <td>0.064962</td>\n",
       "      <td>-0.019040</td>\n",
       "      <td>-0.012496</td>\n",
       "      <td>0.051775</td>\n",
       "      <td>-0.044325</td>\n",
       "      <td>-0.026008</td>\n",
       "      <td>-0.056535</td>\n",
       "    </tr>\n",
       "    <tr>\n",
       "      <td>studytime</td>\n",
       "      <td>0.092290</td>\n",
       "      <td>-0.304775</td>\n",
       "      <td>-0.015355</td>\n",
       "      <td>-0.036696</td>\n",
       "      <td>-0.044706</td>\n",
       "      <td>0.026336</td>\n",
       "      <td>0.073607</td>\n",
       "      <td>0.007754</td>\n",
       "      <td>-0.094637</td>\n",
       "      <td>1.000000</td>\n",
       "      <td>-0.166598</td>\n",
       "      <td>0.076184</td>\n",
       "      <td>0.119062</td>\n",
       "      <td>0.211996</td>\n",
       "      <td>0.113586</td>\n",
       "      <td>0.046899</td>\n",
       "      <td>-1.000000</td>\n",
       "      <td>0.122300</td>\n",
       "      <td>0.135193</td>\n",
       "      <td>0.049541</td>\n",
       "      <td>0.037638</td>\n",
       "      <td>-0.119014</td>\n",
       "      <td>-0.051090</td>\n",
       "      <td>-0.064860</td>\n",
       "      <td>-0.059847</td>\n",
       "      <td>0.114295</td>\n",
       "    </tr>\n",
       "    <tr>\n",
       "      <td>failures</td>\n",
       "      <td>-0.068841</td>\n",
       "      <td>0.030405</td>\n",
       "      <td>0.228081</td>\n",
       "      <td>-0.120126</td>\n",
       "      <td>0.009466</td>\n",
       "      <td>0.048093</td>\n",
       "      <td>-0.243821</td>\n",
       "      <td>-0.260690</td>\n",
       "      <td>0.049670</td>\n",
       "      <td>-0.166598</td>\n",
       "      <td>1.000000</td>\n",
       "      <td>-0.003700</td>\n",
       "      <td>-0.080624</td>\n",
       "      <td>-0.123814</td>\n",
       "      <td>-0.078693</td>\n",
       "      <td>-0.154777</td>\n",
       "      <td>0.168020</td>\n",
       "      <td>-0.140100</td>\n",
       "      <td>-0.036139</td>\n",
       "      <td>0.092201</td>\n",
       "      <td>-0.017230</td>\n",
       "      <td>0.094826</td>\n",
       "      <td>0.113649</td>\n",
       "      <td>0.072497</td>\n",
       "      <td>0.071746</td>\n",
       "      <td>-0.337187</td>\n",
       "    </tr>\n",
       "    <tr>\n",
       "      <td>schoolsup</td>\n",
       "      <td>0.145050</td>\n",
       "      <td>-0.133653</td>\n",
       "      <td>-0.239681</td>\n",
       "      <td>0.005480</td>\n",
       "      <td>-0.018624</td>\n",
       "      <td>-0.046580</td>\n",
       "      <td>-0.005527</td>\n",
       "      <td>0.041903</td>\n",
       "      <td>0.028706</td>\n",
       "      <td>0.076184</td>\n",
       "      <td>-0.003700</td>\n",
       "      <td>1.000000</td>\n",
       "      <td>-0.001409</td>\n",
       "      <td>-0.034082</td>\n",
       "      <td>-0.014887</td>\n",
       "      <td>0.035566</td>\n",
       "      <td>-0.077748</td>\n",
       "      <td>0.074514</td>\n",
       "      <td>0.002004</td>\n",
       "      <td>-0.056860</td>\n",
       "      <td>0.025052</td>\n",
       "      <td>-0.058340</td>\n",
       "      <td>-0.032801</td>\n",
       "      <td>-0.022579</td>\n",
       "      <td>0.005473</td>\n",
       "      <td>-0.068041</td>\n",
       "    </tr>\n",
       "    <tr>\n",
       "      <td>famsup</td>\n",
       "      <td>0.058673</td>\n",
       "      <td>-0.039618</td>\n",
       "      <td>-0.105109</td>\n",
       "      <td>-0.025744</td>\n",
       "      <td>-0.024002</td>\n",
       "      <td>-0.014681</td>\n",
       "      <td>0.121918</td>\n",
       "      <td>0.187701</td>\n",
       "      <td>-0.080418</td>\n",
       "      <td>0.119062</td>\n",
       "      <td>-0.080624</td>\n",
       "      <td>-0.001409</td>\n",
       "      <td>1.000000</td>\n",
       "      <td>0.151816</td>\n",
       "      <td>0.010199</td>\n",
       "      <td>0.061185</td>\n",
       "      <td>-0.119692</td>\n",
       "      <td>0.030847</td>\n",
       "      <td>0.057921</td>\n",
       "      <td>0.023655</td>\n",
       "      <td>-0.032345</td>\n",
       "      <td>-0.067988</td>\n",
       "      <td>-0.026417</td>\n",
       "      <td>0.000757</td>\n",
       "      <td>-0.033742</td>\n",
       "      <td>-0.044294</td>\n",
       "    </tr>\n",
       "    <tr>\n",
       "      <td>paid</td>\n",
       "      <td>-0.007499</td>\n",
       "      <td>-0.098664</td>\n",
       "      <td>0.009123</td>\n",
       "      <td>0.015051</td>\n",
       "      <td>-0.067358</td>\n",
       "      <td>-0.067155</td>\n",
       "      <td>0.078098</td>\n",
       "      <td>0.026497</td>\n",
       "      <td>-0.034315</td>\n",
       "      <td>0.211996</td>\n",
       "      <td>-0.123814</td>\n",
       "      <td>-0.034082</td>\n",
       "      <td>0.151816</td>\n",
       "      <td>1.000000</td>\n",
       "      <td>0.002129</td>\n",
       "      <td>0.039562</td>\n",
       "      <td>-0.213871</td>\n",
       "      <td>0.051181</td>\n",
       "      <td>0.140558</td>\n",
       "      <td>0.054043</td>\n",
       "      <td>-0.008570</td>\n",
       "      <td>-0.003684</td>\n",
       "      <td>0.064823</td>\n",
       "      <td>-0.061101</td>\n",
       "      <td>-0.013422</td>\n",
       "      <td>0.081282</td>\n",
       "    </tr>\n",
       "    <tr>\n",
       "      <td>activities</td>\n",
       "      <td>0.084920</td>\n",
       "      <td>0.074598</td>\n",
       "      <td>-0.031692</td>\n",
       "      <td>-0.019713</td>\n",
       "      <td>-0.079257</td>\n",
       "      <td>0.038535</td>\n",
       "      <td>0.091967</td>\n",
       "      <td>0.076112</td>\n",
       "      <td>-0.005123</td>\n",
       "      <td>0.113586</td>\n",
       "      <td>-0.078693</td>\n",
       "      <td>-0.014887</td>\n",
       "      <td>0.010199</td>\n",
       "      <td>0.002129</td>\n",
       "      <td>1.000000</td>\n",
       "      <td>0.007272</td>\n",
       "      <td>-0.114827</td>\n",
       "      <td>0.075361</td>\n",
       "      <td>-0.015692</td>\n",
       "      <td>-0.012469</td>\n",
       "      <td>0.064922</td>\n",
       "      <td>0.069626</td>\n",
       "      <td>0.078044</td>\n",
       "      <td>0.082475</td>\n",
       "      <td>-0.016575</td>\n",
       "      <td>0.029241</td>\n",
       "    </tr>\n",
       "    <tr>\n",
       "      <td>nursery</td>\n",
       "      <td>0.134599</td>\n",
       "      <td>-0.004295</td>\n",
       "      <td>-0.129643</td>\n",
       "      <td>0.123815</td>\n",
       "      <td>0.073900</td>\n",
       "      <td>-0.010040</td>\n",
       "      <td>0.179012</td>\n",
       "      <td>0.134340</td>\n",
       "      <td>-0.047449</td>\n",
       "      <td>0.046899</td>\n",
       "      <td>-0.154777</td>\n",
       "      <td>0.035566</td>\n",
       "      <td>0.061185</td>\n",
       "      <td>0.039562</td>\n",
       "      <td>0.007272</td>\n",
       "      <td>1.000000</td>\n",
       "      <td>-0.047195</td>\n",
       "      <td>0.034060</td>\n",
       "      <td>-0.014107</td>\n",
       "      <td>-0.023492</td>\n",
       "      <td>-0.048612</td>\n",
       "      <td>-0.033958</td>\n",
       "      <td>0.023816</td>\n",
       "      <td>-0.050467</td>\n",
       "      <td>0.047984</td>\n",
       "      <td>0.051697</td>\n",
       "    </tr>\n",
       "    <tr>\n",
       "      <td>studytime, granular</td>\n",
       "      <td>-0.092700</td>\n",
       "      <td>0.307566</td>\n",
       "      <td>0.015556</td>\n",
       "      <td>0.036626</td>\n",
       "      <td>0.045456</td>\n",
       "      <td>-0.026351</td>\n",
       "      <td>-0.074156</td>\n",
       "      <td>-0.007778</td>\n",
       "      <td>0.095724</td>\n",
       "      <td>-1.000000</td>\n",
       "      <td>0.168020</td>\n",
       "      <td>-0.077748</td>\n",
       "      <td>-0.119692</td>\n",
       "      <td>-0.213871</td>\n",
       "      <td>-0.114827</td>\n",
       "      <td>-0.047195</td>\n",
       "      <td>1.000000</td>\n",
       "      <td>-0.124552</td>\n",
       "      <td>-0.135895</td>\n",
       "      <td>-0.049736</td>\n",
       "      <td>-0.038152</td>\n",
       "      <td>0.120774</td>\n",
       "      <td>0.051585</td>\n",
       "      <td>0.065370</td>\n",
       "      <td>0.060224</td>\n",
       "      <td>-0.115741</td>\n",
       "    </tr>\n",
       "    <tr>\n",
       "      <td>higher</td>\n",
       "      <td>0.035167</td>\n",
       "      <td>-0.181119</td>\n",
       "      <td>-0.066201</td>\n",
       "      <td>-0.014409</td>\n",
       "      <td>0.038317</td>\n",
       "      <td>0.064960</td>\n",
       "      <td>0.071468</td>\n",
       "      <td>0.133219</td>\n",
       "      <td>-0.109086</td>\n",
       "      <td>0.122300</td>\n",
       "      <td>-0.140100</td>\n",
       "      <td>0.074514</td>\n",
       "      <td>0.030847</td>\n",
       "      <td>0.051181</td>\n",
       "      <td>0.075361</td>\n",
       "      <td>0.034060</td>\n",
       "      <td>-0.124552</td>\n",
       "      <td>1.000000</td>\n",
       "      <td>-0.055504</td>\n",
       "      <td>-0.037502</td>\n",
       "      <td>-0.019073</td>\n",
       "      <td>-0.057913</td>\n",
       "      <td>-0.018614</td>\n",
       "      <td>-0.027884</td>\n",
       "      <td>0.093038</td>\n",
       "      <td>0.054497</td>\n",
       "    </tr>\n",
       "    <tr>\n",
       "      <td>internet</td>\n",
       "      <td>0.032450</td>\n",
       "      <td>-0.026848</td>\n",
       "      <td>-0.065962</td>\n",
       "      <td>0.046990</td>\n",
       "      <td>-0.058728</td>\n",
       "      <td>-0.003380</td>\n",
       "      <td>0.119186</td>\n",
       "      <td>0.027878</td>\n",
       "      <td>-0.038759</td>\n",
       "      <td>0.135193</td>\n",
       "      <td>-0.036139</td>\n",
       "      <td>0.002004</td>\n",
       "      <td>0.057921</td>\n",
       "      <td>0.140558</td>\n",
       "      <td>-0.015692</td>\n",
       "      <td>-0.014107</td>\n",
       "      <td>-0.135895</td>\n",
       "      <td>-0.055504</td>\n",
       "      <td>1.000000</td>\n",
       "      <td>0.099446</td>\n",
       "      <td>-0.021435</td>\n",
       "      <td>-0.000252</td>\n",
       "      <td>0.032701</td>\n",
       "      <td>0.005332</td>\n",
       "      <td>0.065142</td>\n",
       "      <td>0.060751</td>\n",
       "    </tr>\n",
       "    <tr>\n",
       "      <td>romantic</td>\n",
       "      <td>-0.056690</td>\n",
       "      <td>-0.139999</td>\n",
       "      <td>0.161705</td>\n",
       "      <td>0.004394</td>\n",
       "      <td>-0.030630</td>\n",
       "      <td>0.063187</td>\n",
       "      <td>0.001458</td>\n",
       "      <td>0.011488</td>\n",
       "      <td>0.064962</td>\n",
       "      <td>0.049541</td>\n",
       "      <td>0.092201</td>\n",
       "      <td>-0.056860</td>\n",
       "      <td>0.023655</td>\n",
       "      <td>0.054043</td>\n",
       "      <td>-0.012469</td>\n",
       "      <td>-0.023492</td>\n",
       "      <td>-0.049736</td>\n",
       "      <td>-0.037502</td>\n",
       "      <td>0.099446</td>\n",
       "      <td>1.000000</td>\n",
       "      <td>-0.070353</td>\n",
       "      <td>-0.022060</td>\n",
       "      <td>-0.006535</td>\n",
       "      <td>0.004303</td>\n",
       "      <td>0.092514</td>\n",
       "      <td>-0.112322</td>\n",
       "    </tr>\n",
       "    <tr>\n",
       "      <td>famrel</td>\n",
       "      <td>0.032196</td>\n",
       "      <td>0.046215</td>\n",
       "      <td>0.065250</td>\n",
       "      <td>-0.038655</td>\n",
       "      <td>-0.019935</td>\n",
       "      <td>0.027443</td>\n",
       "      <td>-0.013366</td>\n",
       "      <td>-0.024077</td>\n",
       "      <td>-0.019040</td>\n",
       "      <td>0.037638</td>\n",
       "      <td>-0.017230</td>\n",
       "      <td>0.025052</td>\n",
       "      <td>-0.032345</td>\n",
       "      <td>-0.008570</td>\n",
       "      <td>0.064922</td>\n",
       "      <td>-0.048612</td>\n",
       "      <td>-0.038152</td>\n",
       "      <td>-0.019073</td>\n",
       "      <td>-0.021435</td>\n",
       "      <td>-0.070353</td>\n",
       "      <td>1.000000</td>\n",
       "      <td>0.165324</td>\n",
       "      <td>0.074217</td>\n",
       "      <td>0.090195</td>\n",
       "      <td>-0.068464</td>\n",
       "      <td>0.052902</td>\n",
       "    </tr>\n",
       "    <tr>\n",
       "      <td>freetime</td>\n",
       "      <td>-0.037352</td>\n",
       "      <td>0.232259</td>\n",
       "      <td>0.026443</td>\n",
       "      <td>-0.022089</td>\n",
       "      <td>-0.014319</td>\n",
       "      <td>0.075122</td>\n",
       "      <td>0.029204</td>\n",
       "      <td>-0.029868</td>\n",
       "      <td>-0.012496</td>\n",
       "      <td>-0.119014</td>\n",
       "      <td>0.094826</td>\n",
       "      <td>-0.058340</td>\n",
       "      <td>-0.067988</td>\n",
       "      <td>-0.003684</td>\n",
       "      <td>0.069626</td>\n",
       "      <td>-0.033958</td>\n",
       "      <td>0.120774</td>\n",
       "      <td>-0.057913</td>\n",
       "      <td>-0.000252</td>\n",
       "      <td>-0.022060</td>\n",
       "      <td>0.165324</td>\n",
       "      <td>1.000000</td>\n",
       "      <td>0.292305</td>\n",
       "      <td>0.064299</td>\n",
       "      <td>-0.004111</td>\n",
       "      <td>0.017481</td>\n",
       "    </tr>\n",
       "    <tr>\n",
       "      <td>goout</td>\n",
       "      <td>0.005542</td>\n",
       "      <td>0.085441</td>\n",
       "      <td>0.134069</td>\n",
       "      <td>-0.016303</td>\n",
       "      <td>0.057554</td>\n",
       "      <td>0.000270</td>\n",
       "      <td>0.062412</td>\n",
       "      <td>0.039084</td>\n",
       "      <td>0.051775</td>\n",
       "      <td>-0.051090</td>\n",
       "      <td>0.113649</td>\n",
       "      <td>-0.032801</td>\n",
       "      <td>-0.026417</td>\n",
       "      <td>0.064823</td>\n",
       "      <td>0.078044</td>\n",
       "      <td>0.023816</td>\n",
       "      <td>0.051585</td>\n",
       "      <td>-0.018614</td>\n",
       "      <td>0.032701</td>\n",
       "      <td>-0.006535</td>\n",
       "      <td>0.074217</td>\n",
       "      <td>0.292305</td>\n",
       "      <td>1.000000</td>\n",
       "      <td>-0.013284</td>\n",
       "      <td>0.075424</td>\n",
       "      <td>-0.127742</td>\n",
       "    </tr>\n",
       "    <tr>\n",
       "      <td>health</td>\n",
       "      <td>0.050984</td>\n",
       "      <td>0.142264</td>\n",
       "      <td>-0.060506</td>\n",
       "      <td>-0.057746</td>\n",
       "      <td>-0.036488</td>\n",
       "      <td>0.000014</td>\n",
       "      <td>-0.066406</td>\n",
       "      <td>-0.009862</td>\n",
       "      <td>-0.044325</td>\n",
       "      <td>-0.064860</td>\n",
       "      <td>0.072497</td>\n",
       "      <td>-0.022579</td>\n",
       "      <td>0.000757</td>\n",
       "      <td>-0.061101</td>\n",
       "      <td>0.082475</td>\n",
       "      <td>-0.050467</td>\n",
       "      <td>0.065370</td>\n",
       "      <td>-0.027884</td>\n",
       "      <td>0.005332</td>\n",
       "      <td>0.004303</td>\n",
       "      <td>0.090195</td>\n",
       "      <td>0.064299</td>\n",
       "      <td>-0.013284</td>\n",
       "      <td>1.000000</td>\n",
       "      <td>-0.055529</td>\n",
       "      <td>-0.080583</td>\n",
       "    </tr>\n",
       "    <tr>\n",
       "      <td>absences</td>\n",
       "      <td>0.052025</td>\n",
       "      <td>-0.044422</td>\n",
       "      <td>0.205128</td>\n",
       "      <td>0.047170</td>\n",
       "      <td>0.023161</td>\n",
       "      <td>-0.108569</td>\n",
       "      <td>0.108208</td>\n",
       "      <td>0.031493</td>\n",
       "      <td>-0.026008</td>\n",
       "      <td>-0.059847</td>\n",
       "      <td>0.071746</td>\n",
       "      <td>0.005473</td>\n",
       "      <td>-0.033742</td>\n",
       "      <td>-0.013422</td>\n",
       "      <td>-0.016575</td>\n",
       "      <td>0.047984</td>\n",
       "      <td>0.060224</td>\n",
       "      <td>0.093038</td>\n",
       "      <td>0.065142</td>\n",
       "      <td>0.092514</td>\n",
       "      <td>-0.068464</td>\n",
       "      <td>-0.004111</td>\n",
       "      <td>0.075424</td>\n",
       "      <td>-0.055529</td>\n",
       "      <td>1.000000</td>\n",
       "      <td>0.060744</td>\n",
       "    </tr>\n",
       "    <tr>\n",
       "      <td>score</td>\n",
       "      <td>0.044524</td>\n",
       "      <td>0.099285</td>\n",
       "      <td>-0.155726</td>\n",
       "      <td>0.067663</td>\n",
       "      <td>0.066200</td>\n",
       "      <td>-0.040159</td>\n",
       "      <td>0.200890</td>\n",
       "      <td>0.124829</td>\n",
       "      <td>-0.056535</td>\n",
       "      <td>0.114295</td>\n",
       "      <td>-0.337187</td>\n",
       "      <td>-0.068041</td>\n",
       "      <td>-0.044294</td>\n",
       "      <td>0.081282</td>\n",
       "      <td>0.029241</td>\n",
       "      <td>0.051697</td>\n",
       "      <td>-0.115741</td>\n",
       "      <td>0.054497</td>\n",
       "      <td>0.060751</td>\n",
       "      <td>-0.112322</td>\n",
       "      <td>0.052902</td>\n",
       "      <td>0.017481</td>\n",
       "      <td>-0.127742</td>\n",
       "      <td>-0.080583</td>\n",
       "      <td>0.060744</td>\n",
       "      <td>1.000000</td>\n",
       "    </tr>\n",
       "  </tbody>\n",
       "</table>\n",
       "</div>"
      ],
      "text/plain": [
       "                       school       sex       age   address   famsize  \\\n",
       "school               1.000000  0.012286 -0.377610  0.281753 -0.067688   \n",
       "sex                  0.012286  1.000000 -0.028606 -0.015043  0.038315   \n",
       "age                 -0.377610 -0.028606  1.000000 -0.141083  0.012018   \n",
       "address              0.281753 -0.015043 -0.141083  1.000000  0.023031   \n",
       "famsize             -0.067688  0.038315  0.012018  0.023031  1.000000   \n",
       "Pstatus             -0.102607  0.020145  0.008104 -0.072169 -0.017240   \n",
       "Medu                 0.136125  0.083011 -0.160777  0.084382 -0.028541   \n",
       "Fedu                 0.084498  0.024390 -0.154781  0.104948 -0.008241   \n",
       "traveltime          -0.235860  0.050730  0.084755 -0.194893  0.009526   \n",
       "studytime            0.092290 -0.304775 -0.015355 -0.036696 -0.044706   \n",
       "failures            -0.068841  0.030405  0.228081 -0.120126  0.009466   \n",
       "schoolsup            0.145050 -0.133653 -0.239681  0.005480 -0.018624   \n",
       "famsup               0.058673 -0.039618 -0.105109 -0.025744 -0.024002   \n",
       "paid                -0.007499 -0.098664  0.009123  0.015051 -0.067358   \n",
       "activities           0.084920  0.074598 -0.031692 -0.019713 -0.079257   \n",
       "nursery              0.134599 -0.004295 -0.129643  0.123815  0.073900   \n",
       "studytime, granular -0.092700  0.307566  0.015556  0.036626  0.045456   \n",
       "higher               0.035167 -0.181119 -0.066201 -0.014409  0.038317   \n",
       "internet             0.032450 -0.026848 -0.065962  0.046990 -0.058728   \n",
       "romantic            -0.056690 -0.139999  0.161705  0.004394 -0.030630   \n",
       "famrel               0.032196  0.046215  0.065250 -0.038655 -0.019935   \n",
       "freetime            -0.037352  0.232259  0.026443 -0.022089 -0.014319   \n",
       "goout                0.005542  0.085441  0.134069 -0.016303  0.057554   \n",
       "health               0.050984  0.142264 -0.060506 -0.057746 -0.036488   \n",
       "absences             0.052025 -0.044422  0.205128  0.047170  0.023161   \n",
       "score                0.044524  0.099285 -0.155726  0.067663  0.066200   \n",
       "\n",
       "                      Pstatus      Medu      Fedu  traveltime  studytime  \\\n",
       "school              -0.102607  0.136125  0.084498   -0.235860   0.092290   \n",
       "sex                  0.020145  0.083011  0.024390    0.050730  -0.304775   \n",
       "age                  0.008104 -0.160777 -0.154781    0.084755  -0.015355   \n",
       "address             -0.072169  0.084382  0.104948   -0.194893  -0.036696   \n",
       "famsize             -0.017240 -0.028541 -0.008241    0.009526  -0.044706   \n",
       "Pstatus              1.000000 -0.032156 -0.074229   -0.048401   0.026336   \n",
       "Medu                -0.032156  1.000000  0.587159   -0.164282   0.073607   \n",
       "Fedu                -0.074229  0.587159  1.000000   -0.120629   0.007754   \n",
       "traveltime          -0.048401 -0.164282 -0.120629    1.000000  -0.094637   \n",
       "studytime            0.026336  0.073607  0.007754   -0.094637   1.000000   \n",
       "failures             0.048093 -0.243821 -0.260690    0.049670  -0.166598   \n",
       "schoolsup           -0.046580 -0.005527  0.041903    0.028706   0.076184   \n",
       "famsup              -0.014681  0.121918  0.187701   -0.080418   0.119062   \n",
       "paid                -0.067155  0.078098  0.026497   -0.034315   0.211996   \n",
       "activities           0.038535  0.091967  0.076112   -0.005123   0.113586   \n",
       "nursery             -0.010040  0.179012  0.134340   -0.047449   0.046899   \n",
       "studytime, granular -0.026351 -0.074156 -0.007778    0.095724  -1.000000   \n",
       "higher               0.064960  0.071468  0.133219   -0.109086   0.122300   \n",
       "internet            -0.003380  0.119186  0.027878   -0.038759   0.135193   \n",
       "romantic             0.063187  0.001458  0.011488    0.064962   0.049541   \n",
       "famrel               0.027443 -0.013366 -0.024077   -0.019040   0.037638   \n",
       "freetime             0.075122  0.029204 -0.029868   -0.012496  -0.119014   \n",
       "goout                0.000270  0.062412  0.039084    0.051775  -0.051090   \n",
       "health               0.000014 -0.066406 -0.009862   -0.044325  -0.064860   \n",
       "absences            -0.108569  0.108208  0.031493   -0.026008  -0.059847   \n",
       "score               -0.040159  0.200890  0.124829   -0.056535   0.114295   \n",
       "\n",
       "                     failures  schoolsup    famsup      paid  activities  \\\n",
       "school              -0.068841   0.145050  0.058673 -0.007499    0.084920   \n",
       "sex                  0.030405  -0.133653 -0.039618 -0.098664    0.074598   \n",
       "age                  0.228081  -0.239681 -0.105109  0.009123   -0.031692   \n",
       "address             -0.120126   0.005480 -0.025744  0.015051   -0.019713   \n",
       "famsize              0.009466  -0.018624 -0.024002 -0.067358   -0.079257   \n",
       "Pstatus              0.048093  -0.046580 -0.014681 -0.067155    0.038535   \n",
       "Medu                -0.243821  -0.005527  0.121918  0.078098    0.091967   \n",
       "Fedu                -0.260690   0.041903  0.187701  0.026497    0.076112   \n",
       "traveltime           0.049670   0.028706 -0.080418 -0.034315   -0.005123   \n",
       "studytime           -0.166598   0.076184  0.119062  0.211996    0.113586   \n",
       "failures             1.000000  -0.003700 -0.080624 -0.123814   -0.078693   \n",
       "schoolsup           -0.003700   1.000000 -0.001409 -0.034082   -0.014887   \n",
       "famsup              -0.080624  -0.001409  1.000000  0.151816    0.010199   \n",
       "paid                -0.123814  -0.034082  0.151816  1.000000    0.002129   \n",
       "activities          -0.078693  -0.014887  0.010199  0.002129    1.000000   \n",
       "nursery             -0.154777   0.035566  0.061185  0.039562    0.007272   \n",
       "studytime, granular  0.168020  -0.077748 -0.119692 -0.213871   -0.114827   \n",
       "higher              -0.140100   0.074514  0.030847  0.051181    0.075361   \n",
       "internet            -0.036139   0.002004  0.057921  0.140558   -0.015692   \n",
       "romantic             0.092201  -0.056860  0.023655  0.054043   -0.012469   \n",
       "famrel              -0.017230   0.025052 -0.032345 -0.008570    0.064922   \n",
       "freetime             0.094826  -0.058340 -0.067988 -0.003684    0.069626   \n",
       "goout                0.113649  -0.032801 -0.026417  0.064823    0.078044   \n",
       "health               0.072497  -0.022579  0.000757 -0.061101    0.082475   \n",
       "absences             0.071746   0.005473 -0.033742 -0.013422   -0.016575   \n",
       "score               -0.337187  -0.068041 -0.044294  0.081282    0.029241   \n",
       "\n",
       "                      nursery  studytime, granular    higher  internet  \\\n",
       "school               0.134599            -0.092700  0.035167  0.032450   \n",
       "sex                 -0.004295             0.307566 -0.181119 -0.026848   \n",
       "age                 -0.129643             0.015556 -0.066201 -0.065962   \n",
       "address              0.123815             0.036626 -0.014409  0.046990   \n",
       "famsize              0.073900             0.045456  0.038317 -0.058728   \n",
       "Pstatus             -0.010040            -0.026351  0.064960 -0.003380   \n",
       "Medu                 0.179012            -0.074156  0.071468  0.119186   \n",
       "Fedu                 0.134340            -0.007778  0.133219  0.027878   \n",
       "traveltime          -0.047449             0.095724 -0.109086 -0.038759   \n",
       "studytime            0.046899            -1.000000  0.122300  0.135193   \n",
       "failures            -0.154777             0.168020 -0.140100 -0.036139   \n",
       "schoolsup            0.035566            -0.077748  0.074514  0.002004   \n",
       "famsup               0.061185            -0.119692  0.030847  0.057921   \n",
       "paid                 0.039562            -0.213871  0.051181  0.140558   \n",
       "activities           0.007272            -0.114827  0.075361 -0.015692   \n",
       "nursery              1.000000            -0.047195  0.034060 -0.014107   \n",
       "studytime, granular -0.047195             1.000000 -0.124552 -0.135895   \n",
       "higher               0.034060            -0.124552  1.000000 -0.055504   \n",
       "internet            -0.014107            -0.135895 -0.055504  1.000000   \n",
       "romantic            -0.023492            -0.049736 -0.037502  0.099446   \n",
       "famrel              -0.048612            -0.038152 -0.019073 -0.021435   \n",
       "freetime            -0.033958             0.120774 -0.057913 -0.000252   \n",
       "goout                0.023816             0.051585 -0.018614  0.032701   \n",
       "health              -0.050467             0.065370 -0.027884  0.005332   \n",
       "absences             0.047984             0.060224  0.093038  0.065142   \n",
       "score                0.051697            -0.115741  0.054497  0.060751   \n",
       "\n",
       "                     romantic    famrel  freetime     goout    health  \\\n",
       "school              -0.056690  0.032196 -0.037352  0.005542  0.050984   \n",
       "sex                 -0.139999  0.046215  0.232259  0.085441  0.142264   \n",
       "age                  0.161705  0.065250  0.026443  0.134069 -0.060506   \n",
       "address              0.004394 -0.038655 -0.022089 -0.016303 -0.057746   \n",
       "famsize             -0.030630 -0.019935 -0.014319  0.057554 -0.036488   \n",
       "Pstatus              0.063187  0.027443  0.075122  0.000270  0.000014   \n",
       "Medu                 0.001458 -0.013366  0.029204  0.062412 -0.066406   \n",
       "Fedu                 0.011488 -0.024077 -0.029868  0.039084 -0.009862   \n",
       "traveltime           0.064962 -0.019040 -0.012496  0.051775 -0.044325   \n",
       "studytime            0.049541  0.037638 -0.119014 -0.051090 -0.064860   \n",
       "failures             0.092201 -0.017230  0.094826  0.113649  0.072497   \n",
       "schoolsup           -0.056860  0.025052 -0.058340 -0.032801 -0.022579   \n",
       "famsup               0.023655 -0.032345 -0.067988 -0.026417  0.000757   \n",
       "paid                 0.054043 -0.008570 -0.003684  0.064823 -0.061101   \n",
       "activities          -0.012469  0.064922  0.069626  0.078044  0.082475   \n",
       "nursery             -0.023492 -0.048612 -0.033958  0.023816 -0.050467   \n",
       "studytime, granular -0.049736 -0.038152  0.120774  0.051585  0.065370   \n",
       "higher              -0.037502 -0.019073 -0.057913 -0.018614 -0.027884   \n",
       "internet             0.099446 -0.021435 -0.000252  0.032701  0.005332   \n",
       "romantic             1.000000 -0.070353 -0.022060 -0.006535  0.004303   \n",
       "famrel              -0.070353  1.000000  0.165324  0.074217  0.090195   \n",
       "freetime            -0.022060  0.165324  1.000000  0.292305  0.064299   \n",
       "goout               -0.006535  0.074217  0.292305  1.000000 -0.013284   \n",
       "health               0.004303  0.090195  0.064299 -0.013284  1.000000   \n",
       "absences             0.092514 -0.068464 -0.004111  0.075424 -0.055529   \n",
       "score               -0.112322  0.052902  0.017481 -0.127742 -0.080583   \n",
       "\n",
       "                     absences     score  \n",
       "school               0.052025  0.044524  \n",
       "sex                 -0.044422  0.099285  \n",
       "age                  0.205128 -0.155726  \n",
       "address              0.047170  0.067663  \n",
       "famsize              0.023161  0.066200  \n",
       "Pstatus             -0.108569 -0.040159  \n",
       "Medu                 0.108208  0.200890  \n",
       "Fedu                 0.031493  0.124829  \n",
       "traveltime          -0.026008 -0.056535  \n",
       "studytime           -0.059847  0.114295  \n",
       "failures             0.071746 -0.337187  \n",
       "schoolsup            0.005473 -0.068041  \n",
       "famsup              -0.033742 -0.044294  \n",
       "paid                -0.013422  0.081282  \n",
       "activities          -0.016575  0.029241  \n",
       "nursery              0.047984  0.051697  \n",
       "studytime, granular  0.060224 -0.115741  \n",
       "higher               0.093038  0.054497  \n",
       "internet             0.065142  0.060751  \n",
       "romantic             0.092514 -0.112322  \n",
       "famrel              -0.068464  0.052902  \n",
       "freetime            -0.004111  0.017481  \n",
       "goout                0.075424 -0.127742  \n",
       "health              -0.055529 -0.080583  \n",
       "absences             1.000000  0.060744  \n",
       "score                0.060744  1.000000  "
      ]
     },
     "execution_count": 257,
     "metadata": {},
     "output_type": "execute_result"
    }
   ],
   "source": [
    "# воспользуемся корреляционным анализом для подтверждения того, что столбцы \"studytime\" и \"studytime, granular\" обратно скоррелированы\n",
    "# и можно с уверенностью удалить один из столбцов\n",
    "df_stud.corr()"
   ]
  },
  {
   "cell_type": "code",
   "execution_count": 258,
   "metadata": {},
   "outputs": [],
   "source": [
    "# Поскольку столбец 'studytime, granular' обратно коррелирует со столбцом 'studytime', его можно сразу удалить\n",
    "df_stud = df_stud.drop(['studytime, granular'], axis = 1)\n",
    "\n",
    "# Поскольку в столбце целевой переменной score всего 6 пропусков, эти строки можно также просто удалить\n",
    "# df_stud_mod = df_stud_mod.dropna()\n",
    "# df_stud_mod.info()"
   ]
  },
  {
   "cell_type": "code",
   "execution_count": 259,
   "metadata": {},
   "outputs": [
    {
     "name": "stdout",
     "output_type": "stream",
     "text": [
      "Распределение видов работ матерей:\n"
     ]
    },
    {
     "data": {
      "text/plain": [
       "4    152\n",
       "2     98\n",
       "3     58\n",
       "0     55\n",
       "1     32\n",
       "Name: Mjob, dtype: int64"
      ]
     },
     "metadata": {},
     "output_type": "display_data"
    },
    {
     "data": {
      "text/plain": [
       "<matplotlib.axes._subplots.AxesSubplot at 0x164489fd308>"
      ]
     },
     "metadata": {},
     "output_type": "display_data"
    },
    {
     "data": {
      "text/plain": [
       "count    395.000000\n",
       "mean       2.556962\n",
       "std        1.420899\n",
       "min        0.000000\n",
       "25%        2.000000\n",
       "50%        3.000000\n",
       "75%        4.000000\n",
       "max        4.000000\n",
       "Name: Mjob, dtype: float64"
      ]
     },
     "metadata": {},
     "output_type": "display_data"
    },
    {
     "name": "stdout",
     "output_type": "stream",
     "text": [
      "Пропущенных значений в столбце Mjob: 0\n",
      "================================================================================\n"
     ]
    },
    {
     "data": {
      "image/png": "[encoded data removed]",
      "text/plain": [
       "<Figure size 432x288 with 1 Axes>"
      ]
     },
     "metadata": {
      "needs_background": "light"
     },
     "output_type": "display_data"
    }
   ],
   "source": [
    "# ======================================================================\n",
    "# 4. Выполним анализ номинативных переменных\n",
    "# ======================================================================\n",
    "\n",
    "# В данных Mjob представлено 5 видов работ матерей, пропущенных 19 значений. Пропускам присвоим код - other\n",
    "\n",
    "# Преобразуем символьные данные в поле 'Mjob' в числовой тип\n",
    "df_stud['Mjob'] = df_stud['Mjob'].apply(lambda x: int(x.replace('teacher', '0')) if x == 'teacher' \n",
    "                                        else int(x.replace('health', '1')) if x == 'health'\n",
    "                                        else int(x.replace('services', '2')) if x == 'services'\n",
    "                                        else int(x.replace('at_home', '3')) if x == 'at_home'\n",
    "                                        else int(x.replace('other', '4')) if x == 'other' else int(4))\n",
    "\n",
    "# Взглянем на распределение Mjob\n",
    "print_numeric_priznak('Mjob', 'видов работ матерей:')"
   ]
  },
  {
   "cell_type": "code",
   "execution_count": 260,
   "metadata": {},
   "outputs": [
    {
     "name": "stdout",
     "output_type": "stream",
     "text": [
      "Распределение видов работ отцов:\n"
     ]
    },
    {
     "data": {
      "text/plain": [
       "4    233\n",
       "2    102\n",
       "0     29\n",
       "3     16\n",
       "1     15\n",
       "Name: Fjob, dtype: int64"
      ]
     },
     "metadata": {},
     "output_type": "display_data"
    },
    {
     "data": {
      "text/plain": [
       "<matplotlib.axes._subplots.AxesSubplot at 0x164487eea08>"
      ]
     },
     "metadata": {},
     "output_type": "display_data"
    },
    {
     "data": {
      "text/plain": [
       "count    395.000000\n",
       "mean       3.035443\n",
       "std        1.289851\n",
       "min        0.000000\n",
       "25%        2.000000\n",
       "50%        4.000000\n",
       "75%        4.000000\n",
       "max        4.000000\n",
       "Name: Fjob, dtype: float64"
      ]
     },
     "metadata": {},
     "output_type": "display_data"
    },
    {
     "name": "stdout",
     "output_type": "stream",
     "text": [
      "Пропущенных значений в столбце Fjob: 0\n",
      "================================================================================\n"
     ]
    },
    {
     "data": {
      "image/png": "[encoded data removed]",
      "text/plain": [
       "<Figure size 432x288 with 1 Axes>"
      ]
     },
     "metadata": {
      "needs_background": "light"
     },
     "output_type": "display_data"
    }
   ],
   "source": [
    "# В данных Fjob представлено 5 видов работ отцов, пропущенных 36 значений. Пропускам присвоим код - other\n",
    "\n",
    "# Преобразуем символьные данные в поле 'Mjob' в числовой тип\n",
    "df_stud['Fjob'] = df_stud['Fjob'].apply(lambda x: int(x.replace('teacher', '0')) if x == 'teacher' \n",
    "                                        else int(x.replace('health', '1')) if x == 'health'\n",
    "                                        else int(x.replace('services', '2')) if x == 'services'\n",
    "                                        else int(x.replace('at_home', '3')) if x == 'at_home'\n",
    "                                        else int(x.replace('other', '4')) if x == 'other' else int(4))\n",
    "\n",
    "# Взглянем на распределение Fjob\n",
    "print_numeric_priznak('Fjob', 'видов работ отцов:')"
   ]
  },
  {
   "cell_type": "code",
   "execution_count": 261,
   "metadata": {},
   "outputs": [
    {
     "name": "stdout",
     "output_type": "stream",
     "text": [
      "Распределение причин выбора школы:\n"
     ]
    },
    {
     "data": {
      "text/plain": [
       "2    154\n",
       "0    104\n",
       "1    103\n",
       "3     34\n",
       "Name: reason, dtype: int64"
      ]
     },
     "metadata": {},
     "output_type": "display_data"
    },
    {
     "data": {
      "text/plain": [
       "<matplotlib.axes._subplots.AxesSubplot at 0x1644902f908>"
      ]
     },
     "metadata": {},
     "output_type": "display_data"
    },
    {
     "data": {
      "text/plain": [
       "count    395.000000\n",
       "mean       1.298734\n",
       "std        0.954218\n",
       "min        0.000000\n",
       "25%        0.000000\n",
       "50%        1.000000\n",
       "75%        2.000000\n",
       "max        3.000000\n",
       "Name: reason, dtype: float64"
      ]
     },
     "metadata": {},
     "output_type": "display_data"
    },
    {
     "name": "stdout",
     "output_type": "stream",
     "text": [
      "Пропущенных значений в столбце reason: 0\n",
      "================================================================================\n"
     ]
    },
    {
     "data": {
      "image/png": "[encoded data removed]",
      "text/plain": [
       "<Figure size 432x288 with 1 Axes>"
      ]
     },
     "metadata": {
      "needs_background": "light"
     },
     "output_type": "display_data"
    }
   ],
   "source": [
    "# В данных reason представлено 4 вида причин, пропущенных 17 значений. Пропускам присвоим код - cource\n",
    "\n",
    "# Преобразуем символьные данные в поле 'reason' в числовой тип\n",
    "df_stud['reason'] = df_stud['reason'].apply(lambda x: int(x.replace('home', '0')) if x == 'home' \n",
    "                                            else int(x.replace('reputation', '1')) if x == 'reputation'\n",
    "                                            else int(x.replace('course', '2')) if x == 'course'\n",
    "                                            else int(x.replace('other', '3')) if x == 'other' else int(2))\n",
    "\n",
    "# Взглянем на распределение reason\n",
    "print_numeric_priznak('reason', 'причин выбора школы:')"
   ]
  },
  {
   "cell_type": "code",
   "execution_count": 262,
   "metadata": {},
   "outputs": [
    {
     "name": "stdout",
     "output_type": "stream",
     "text": [
      "Распределение видов опекунов:\n"
     ]
    },
    {
     "data": {
      "text/plain": [
       "0    281\n",
       "1     86\n",
       "2     28\n",
       "Name: guardian, dtype: int64"
      ]
     },
     "metadata": {},
     "output_type": "display_data"
    },
    {
     "data": {
      "text/plain": [
       "<matplotlib.axes._subplots.AxesSubplot at 0x16448edb108>"
      ]
     },
     "metadata": {},
     "output_type": "display_data"
    },
    {
     "data": {
      "text/plain": [
       "count    395.000000\n",
       "mean       0.359494\n",
       "std        0.610716\n",
       "min        0.000000\n",
       "25%        0.000000\n",
       "50%        0.000000\n",
       "75%        1.000000\n",
       "max        2.000000\n",
       "Name: guardian, dtype: float64"
      ]
     },
     "metadata": {},
     "output_type": "display_data"
    },
    {
     "name": "stdout",
     "output_type": "stream",
     "text": [
      "Пропущенных значений в столбце guardian: 0\n",
      "================================================================================\n"
     ]
    },
    {
     "data": {
      "image/png": "[encoded data removed]",
      "text/plain": [
       "<Figure size 432x288 with 1 Axes>"
      ]
     },
     "metadata": {
      "needs_background": "light"
     },
     "output_type": "display_data"
    }
   ],
   "source": [
    "# В данных guardian представлено 3 вида опекунов, пропущенных 31 значений. Пропускам присвоим код - mother\n",
    "\n",
    "# Преобразуем символьные данные в поле 'guardian' в числовой тип\n",
    "df_stud['guardian'] = df_stud['guardian'].apply(lambda x: int(x.replace('mother', '0')) if x == 'mother' \n",
    "                                            else int(x.replace('father', '1')) if x == 'father'\n",
    "                                            else int(x.replace('other', '2')) if x == 'other' else int(0))\n",
    "\n",
    "# Взглянем на распределение guardian\n",
    "print_numeric_priznak('guardian', 'видов опекунов:')"
   ]
  },
  {
   "cell_type": "code",
   "execution_count": 263,
   "metadata": {},
   "outputs": [
    {
     "name": "stdout",
     "output_type": "stream",
     "text": [
      "<class 'pandas.core.frame.DataFrame'>\n",
      "Int64Index: 389 entries, 0 to 394\n",
      "Data columns (total 29 columns):\n",
      "school        389 non-null int64\n",
      "sex           389 non-null int64\n",
      "age           389 non-null int64\n",
      "address       389 non-null int64\n",
      "famsize       389 non-null int64\n",
      "Pstatus       389 non-null int64\n",
      "Medu          389 non-null float64\n",
      "Fedu          389 non-null float64\n",
      "Mjob          389 non-null int64\n",
      "Fjob          389 non-null int64\n",
      "reason        389 non-null int64\n",
      "guardian      389 non-null int64\n",
      "traveltime    389 non-null float64\n",
      "studytime     389 non-null float64\n",
      "failures      389 non-null float64\n",
      "schoolsup     389 non-null int64\n",
      "famsup        389 non-null int64\n",
      "paid          389 non-null int64\n",
      "activities    389 non-null int64\n",
      "nursery       389 non-null int64\n",
      "higher        389 non-null int64\n",
      "internet      389 non-null int64\n",
      "romantic      389 non-null int64\n",
      "famrel        389 non-null float64\n",
      "freetime      389 non-null float64\n",
      "goout         389 non-null float64\n",
      "health        389 non-null float64\n",
      "absences      389 non-null int64\n",
      "score         389 non-null float64\n",
      "dtypes: float64(10), int64(19)\n",
      "memory usage: 91.2 KB\n"
     ]
    }
   ],
   "source": [
    "# Поскольку в столбце целевой переменной score всего 6 пропусков, эти строки можно также просто удалить\n",
    "df_stud_mod = df_stud.dropna()\n",
    "df_stud_mod.info()"
   ]
  },
  {
   "cell_type": "code",
   "execution_count": 267,
   "metadata": {},
   "outputs": [
    {
     "name": "stdout",
     "output_type": "stream",
     "text": [
      "Найдены статистически значимые различия для колонки Medu\n",
      "Найдены статистически значимые различия для колонки Mjob\n",
      "Найдены статистически значимые различия для колонки failures\n",
      "Найдены статистически значимые различия для колонки higher\n",
      "Найдены статистически значимые различия для колонки romantic\n"
     ]
    }
   ],
   "source": [
    "# ======================================================================\n",
    "# 5. Проверим, есть ли статистическая разница в распределении оценок по номинативным признакам, с помощью теста Стьюдента. \n",
    "# Проверим нулевую гипотезу о том, что распределения математических оценок по различным параметрам неразличимы:\n",
    "# ======================================================================\n",
    "def get_stat_dif(column):\n",
    "    cols = df_stud.loc[:, column].value_counts().index[:5]\n",
    "    combinations_all = list(combinations(cols, 2))\n",
    "    for comb in combinations_all:\n",
    "        if ttest_ind(df_stud_mod.loc[df_stud_mod.loc[:, column] == comb[0], 'score'], \n",
    "                        df_stud_mod.loc[df_stud_mod.loc[:, column] == comb[1], 'score']).pvalue \\\n",
    "            <= 0.05/len(combinations_all): # Учли поправку Бонферони\n",
    "            print('Найдены статистически значимые различия для колонки', column)\n",
    "            break\n",
    "\n",
    "# for col in ['Mjob', 'Fjob', 'reason', 'guardian']:\n",
    "for col in ['school', 'sex', 'age', 'address', 'famsize', 'Pstatus', 'Medu', 'Fedu', 'Mjob', 'Fjob', 'reason', 'guardian', \n",
    "            'traveltime', 'studytime', 'failures', 'schoolsup', 'famsup', 'paid', 'activities', 'nursery', 'higher',\n",
    "           'internet', 'romantic', 'famrel', 'freetime', 'goout', 'health', 'absences']:\n",
    "    get_stat_dif(col)"
   ]
  },
  {
   "cell_type": "code",
   "execution_count": null,
   "metadata": {},
   "outputs": [],
   "source": [
    "# ======================================================================\n",
    "# 6. Заключение\n",
    "# ======================================================================\n",
    "\n",
    "# В результате работы мы получили датасет размером 29 столбцов на 389 строк, пропуски отсутствуют.\n",
    "# Для оценки 'важности' признаков на целевую переменную score использовали t-test и основанный на нём p-value для \n",
    "# тестирования нулевой гипотезы.\n",
    "# В итоге значимыми осталось лишь 5 категориальных признаков (столбцов, колонок) - Medu, Mjob, failures, higher и romantic."
   ]
  }
 ],
 "metadata": {
  "kernelspec": {
   "display_name": "Python 3",
   "language": "python",
   "name": "python3"
  },
  "language_info": {
   "codemirror_mode": {
    "name": "ipython",
    "version": 3
   },
   "file_extension": ".py",
   "mimetype": "text/x-python",
   "name": "python",
   "nbconvert_exporter": "python",
   "pygments_lexer": "ipython3",
   "version": "3.7.4"
  }
 },
 "nbformat": 4,
 "nbformat_minor": 2
}
